{
 "cells": [
  {
   "cell_type": "code",
   "execution_count": 1,
   "metadata": {},
   "outputs": [
    {
     "name": "stderr",
     "output_type": "stream",
     "text": [
      "Using TensorFlow backend.\n"
     ]
    }
   ],
   "source": [
    "from keras.models import Sequential\n",
    "from keras.layers import Dense"
   ]
  },
  {
   "cell_type": "code",
   "execution_count": 2,
   "metadata": {},
   "outputs": [],
   "source": [
    "import pandas as pd\n",
    "import numpy as np\n",
    "import os\n",
    "import warnings\n",
    "warnings.filterwarnings('ignore')"
   ]
  },
  {
   "cell_type": "code",
   "execution_count": 3,
   "metadata": {},
   "outputs": [],
   "source": [
    "os.chdir('/home/externalFolder/demo_final_item/919_gene_exp_data')\n",
    "wd = os.getcwd()"
   ]
  },
  {
   "cell_type": "code",
   "execution_count": 4,
   "metadata": {},
   "outputs": [],
   "source": [
    "csv_list=[]\n",
    "for root,dirs,files in os.walk(wd):\n",
    "    for file in files:\n",
    "        if os.path.splitext(file)[1]==\".csv\":\n",
    "            csv_list.append(file)"
   ]
  },
  {
   "cell_type": "code",
   "execution_count": 5,
   "metadata": {},
   "outputs": [],
   "source": [
    "df=pd.read_csv(csv_list[0],header=0,encoding=\"utf8\")"
   ]
  },
  {
   "cell_type": "code",
   "execution_count": 6,
   "metadata": {},
   "outputs": [],
   "source": [
    "for csv in csv_list[1:]:\n",
    "    df_next=pd.read_csv(csv,header=0,encoding=\"utf8\")\n",
    "    df=df.append(df_next)"
   ]
  },
  {
   "cell_type": "code",
   "execution_count": 7,
   "metadata": {},
   "outputs": [
    {
     "data": {
      "text/html": [
       "<div>\n",
       "<style scoped>\n",
       "    .dataframe tbody tr th:only-of-type {\n",
       "        vertical-align: middle;\n",
       "    }\n",
       "\n",
       "    .dataframe tbody tr th {\n",
       "        vertical-align: top;\n",
       "    }\n",
       "\n",
       "    .dataframe thead th {\n",
       "        text-align: right;\n",
       "    }\n",
       "</style>\n",
       "<table border=\"1\" class=\"dataframe\">\n",
       "  <thead>\n",
       "    <tr style=\"text-align: right;\">\n",
       "      <th></th>\n",
       "      <th>0</th>\n",
       "      <th>1</th>\n",
       "      <th>2</th>\n",
       "      <th>3</th>\n",
       "      <th>4</th>\n",
       "      <th>5</th>\n",
       "      <th>6</th>\n",
       "      <th>7</th>\n",
       "      <th>8</th>\n",
       "      <th>9</th>\n",
       "      <th>...</th>\n",
       "      <th>92</th>\n",
       "      <th>93</th>\n",
       "      <th>94</th>\n",
       "      <th>95</th>\n",
       "      <th>96</th>\n",
       "      <th>97</th>\n",
       "      <th>98</th>\n",
       "      <th>99</th>\n",
       "      <th>geneid</th>\n",
       "      <th>liver</th>\n",
       "    </tr>\n",
       "  </thead>\n",
       "  <tbody>\n",
       "    <tr>\n",
       "      <th>0</th>\n",
       "      <td>1.761442</td>\n",
       "      <td>2.790810</td>\n",
       "      <td>2.190633</td>\n",
       "      <td>1.366542</td>\n",
       "      <td>1.210230</td>\n",
       "      <td>4.333073</td>\n",
       "      <td>0.000000</td>\n",
       "      <td>5.413660</td>\n",
       "      <td>1.837925</td>\n",
       "      <td>1.930477</td>\n",
       "      <td>...</td>\n",
       "      <td>3.758223</td>\n",
       "      <td>3.474159</td>\n",
       "      <td>3.496822</td>\n",
       "      <td>4.054275</td>\n",
       "      <td>2.381885</td>\n",
       "      <td>1.270377</td>\n",
       "      <td>1.025855</td>\n",
       "      <td>0.297131</td>\n",
       "      <td>19_ENSG00000186111</td>\n",
       "      <td>3.7475</td>\n",
       "    </tr>\n",
       "    <tr>\n",
       "      <th>1</th>\n",
       "      <td>1.211720</td>\n",
       "      <td>0.000000</td>\n",
       "      <td>2.633885</td>\n",
       "      <td>0.000000</td>\n",
       "      <td>2.164730</td>\n",
       "      <td>3.018419</td>\n",
       "      <td>0.000000</td>\n",
       "      <td>2.417155</td>\n",
       "      <td>3.599522</td>\n",
       "      <td>1.559915</td>\n",
       "      <td>...</td>\n",
       "      <td>5.318622</td>\n",
       "      <td>2.664386</td>\n",
       "      <td>1.946143</td>\n",
       "      <td>5.270920</td>\n",
       "      <td>2.632094</td>\n",
       "      <td>1.098805</td>\n",
       "      <td>2.410668</td>\n",
       "      <td>3.541078</td>\n",
       "      <td>19_ENSG00000105392</td>\n",
       "      <td>0.0000</td>\n",
       "    </tr>\n",
       "    <tr>\n",
       "      <th>2</th>\n",
       "      <td>5.675832</td>\n",
       "      <td>4.745682</td>\n",
       "      <td>3.559182</td>\n",
       "      <td>2.595683</td>\n",
       "      <td>3.789395</td>\n",
       "      <td>3.378824</td>\n",
       "      <td>2.903236</td>\n",
       "      <td>0.579252</td>\n",
       "      <td>2.732789</td>\n",
       "      <td>2.377489</td>\n",
       "      <td>...</td>\n",
       "      <td>0.818733</td>\n",
       "      <td>3.818157</td>\n",
       "      <td>4.024894</td>\n",
       "      <td>2.365818</td>\n",
       "      <td>2.681749</td>\n",
       "      <td>1.881388</td>\n",
       "      <td>0.957109</td>\n",
       "      <td>2.936124</td>\n",
       "      <td>19_ENSG00000198482</td>\n",
       "      <td>7.0200</td>\n",
       "    </tr>\n",
       "    <tr>\n",
       "      <th>3</th>\n",
       "      <td>1.769291</td>\n",
       "      <td>0.000000</td>\n",
       "      <td>2.971827</td>\n",
       "      <td>0.656363</td>\n",
       "      <td>2.821765</td>\n",
       "      <td>3.035915</td>\n",
       "      <td>1.449824</td>\n",
       "      <td>2.394194</td>\n",
       "      <td>2.491104</td>\n",
       "      <td>0.072874</td>\n",
       "      <td>...</td>\n",
       "      <td>2.086079</td>\n",
       "      <td>1.530210</td>\n",
       "      <td>0.253707</td>\n",
       "      <td>1.894978</td>\n",
       "      <td>1.696856</td>\n",
       "      <td>2.115879</td>\n",
       "      <td>2.373876</td>\n",
       "      <td>3.595030</td>\n",
       "      <td>19_ENSG00000213023</td>\n",
       "      <td>0.0025</td>\n",
       "    </tr>\n",
       "    <tr>\n",
       "      <th>4</th>\n",
       "      <td>2.576891</td>\n",
       "      <td>5.813239</td>\n",
       "      <td>0.162564</td>\n",
       "      <td>6.722833</td>\n",
       "      <td>3.257501</td>\n",
       "      <td>7.277939</td>\n",
       "      <td>2.003305</td>\n",
       "      <td>5.161095</td>\n",
       "      <td>2.128146</td>\n",
       "      <td>0.937664</td>\n",
       "      <td>...</td>\n",
       "      <td>3.160046</td>\n",
       "      <td>7.496635</td>\n",
       "      <td>2.092992</td>\n",
       "      <td>7.658709</td>\n",
       "      <td>3.668366</td>\n",
       "      <td>2.345745</td>\n",
       "      <td>4.955628</td>\n",
       "      <td>4.108473</td>\n",
       "      <td>19_ENSG00000131408</td>\n",
       "      <td>24.0775</td>\n",
       "    </tr>\n",
       "  </tbody>\n",
       "</table>\n",
       "<p>5 rows × 102 columns</p>\n",
       "</div>"
      ],
      "text/plain": [
       "          0         1         2         3         4         5         6  \\\n",
       "0  1.761442  2.790810  2.190633  1.366542  1.210230  4.333073  0.000000   \n",
       "1  1.211720  0.000000  2.633885  0.000000  2.164730  3.018419  0.000000   \n",
       "2  5.675832  4.745682  3.559182  2.595683  3.789395  3.378824  2.903236   \n",
       "3  1.769291  0.000000  2.971827  0.656363  2.821765  3.035915  1.449824   \n",
       "4  2.576891  5.813239  0.162564  6.722833  3.257501  7.277939  2.003305   \n",
       "\n",
       "          7         8         9  ...        92        93        94        95  \\\n",
       "0  5.413660  1.837925  1.930477  ...  3.758223  3.474159  3.496822  4.054275   \n",
       "1  2.417155  3.599522  1.559915  ...  5.318622  2.664386  1.946143  5.270920   \n",
       "2  0.579252  2.732789  2.377489  ...  0.818733  3.818157  4.024894  2.365818   \n",
       "3  2.394194  2.491104  0.072874  ...  2.086079  1.530210  0.253707  1.894978   \n",
       "4  5.161095  2.128146  0.937664  ...  3.160046  7.496635  2.092992  7.658709   \n",
       "\n",
       "         96        97        98        99              geneid    liver  \n",
       "0  2.381885  1.270377  1.025855  0.297131  19_ENSG00000186111   3.7475  \n",
       "1  2.632094  1.098805  2.410668  3.541078  19_ENSG00000105392   0.0000  \n",
       "2  2.681749  1.881388  0.957109  2.936124  19_ENSG00000198482   7.0200  \n",
       "3  1.696856  2.115879  2.373876  3.595030  19_ENSG00000213023   0.0025  \n",
       "4  3.668366  2.345745  4.955628  4.108473  19_ENSG00000131408  24.0775  \n",
       "\n",
       "[5 rows x 102 columns]"
      ]
     },
     "execution_count": 7,
     "metadata": {},
     "output_type": "execute_result"
    }
   ],
   "source": [
    "df.head()"
   ]
  },
  {
   "cell_type": "code",
   "execution_count": 8,
   "metadata": {},
   "outputs": [],
   "source": [
    "df=df.values"
   ]
  },
  {
   "cell_type": "code",
   "execution_count": 9,
   "metadata": {},
   "outputs": [
    {
     "data": {
      "text/plain": [
       "array([[1.7614421000000002, 2.79081, 2.1906333, ..., 0.29713124,\n",
       "        '19_ENSG00000186111', 3.7475],\n",
       "       [1.2117196000000001, 0.0, 2.6338851, ..., 3.5410776,\n",
       "        '19_ENSG00000105392', 0.0],\n",
       "       [5.6758323, 4.7456822, 3.559182, ..., 2.9361243,\n",
       "        '19_ENSG00000198482', 7.02],\n",
       "       ...,\n",
       "       [0.6593685, 3.286777, 1.7489103, ..., 4.5012617,\n",
       "        '12_ENSG00000256504', 0.0],\n",
       "       [3.0667236, 2.8898243999999997, 2.3574387999999997, ...,\n",
       "        1.6945603999999999, '12_ENSG00000151131', 2.77],\n",
       "       [1.8548483, 2.0971587000000005, 0.96279025, ...,\n",
       "        1.1288871999999999, '12_ENSG00000257470', 0.0]], dtype=object)"
      ]
     },
     "execution_count": 9,
     "metadata": {},
     "output_type": "execute_result"
    }
   ],
   "source": []
  },
  {
   "cell_type": "code",
   "execution_count": 18,
   "metadata": {},
   "outputs": [],
   "source": [
    "train_data=df[:,:100]"
   ]
  },
  {
   "cell_type": "code",
   "execution_count": null,
   "metadata": {},
   "outputs": [],
   "source": []
  },
  {
   "cell_type": "code",
   "execution_count": 19,
   "metadata": {},
   "outputs": [],
   "source": [
    "train_target=df[:,-1]"
   ]
  },
  {
   "cell_type": "code",
   "execution_count": 22,
   "metadata": {},
   "outputs": [],
   "source": [
    "from sklearn.model_selection import train_test_split"
   ]
  },
  {
   "cell_type": "code",
   "execution_count": 23,
   "metadata": {},
   "outputs": [],
   "source": [
    "train_X,test_X,train_y,test_y = train_test_split(train_data,train_target,test_size=0.2,random_state=1) #随机种子用于复现结果"
   ]
  },
  {
   "cell_type": "code",
   "execution_count": 109,
   "metadata": {},
   "outputs": [],
   "source": [
    "from keras import regularizers\n",
    "from keras.layers import Dropout"
   ]
  },
  {
   "cell_type": "code",
   "execution_count": null,
   "metadata": {},
   "outputs": [],
   "source": []
  },
  {
   "cell_type": "code",
   "execution_count": 119,
   "metadata": {},
   "outputs": [],
   "source": [
    "model = Sequential([\n",
    "    Dense(64, activation='relu', kernel_regularizer=regularizers.l2(0.01), input_shape=(100,)),\n",
    "    Dropout(0.3),\n",
    "    Dense(32, activation='relu', kernel_regularizer=regularizers.l2(0.01)),\n",
    "    Dropout(0.3),\n",
    "    Dense(1, activation='linear', kernel_regularizer=regularizers.l2(0.01)),\n",
    "])"
   ]
  },
  {
   "cell_type": "code",
   "execution_count": 120,
   "metadata": {},
   "outputs": [],
   "source": [
    "model.compile(optimizer='adam',loss='mse')"
   ]
  },
  {
   "cell_type": "code",
   "execution_count": 121,
   "metadata": {},
   "outputs": [
    {
     "data": {
      "text/plain": [
       "<bound method Network.summary of <keras.engine.sequential.Sequential object at 0x7ff694242be0>>"
      ]
     },
     "execution_count": 121,
     "metadata": {},
     "output_type": "execute_result"
    }
   ],
   "source": [
    "model.summary"
   ]
  },
  {
   "cell_type": "code",
   "execution_count": 123,
   "metadata": {},
   "outputs": [
    {
     "name": "stdout",
     "output_type": "stream",
     "text": [
      "Train on 15537 samples, validate on 3885 samples\n",
      "Epoch 1/100\n",
      "15537/15537 [==============================] - 1s 96us/step - loss: 107640.1068 - val_loss: 201737.0214\n",
      "Epoch 2/100\n",
      "15537/15537 [==============================] - 2s 100us/step - loss: 106805.5443 - val_loss: 201947.3983\n",
      "Epoch 3/100\n",
      "15537/15537 [==============================] - 2s 97us/step - loss: 107132.7803 - val_loss: 202009.0717\n",
      "Epoch 4/100\n",
      "15537/15537 [==============================] - 2s 98us/step - loss: 106752.1780 - val_loss: 201781.2944\n",
      "Epoch 5/100\n",
      "15537/15537 [==============================] - 1s 96us/step - loss: 106307.1376 - val_loss: 202080.1864\n",
      "Epoch 6/100\n",
      "15537/15537 [==============================] - 2s 98us/step - loss: 105485.4967 - val_loss: 201841.5424\n",
      "Epoch 7/100\n",
      "15537/15537 [==============================] - 2s 97us/step - loss: 106442.1434 - val_loss: 201778.6640\n",
      "Epoch 8/100\n",
      "15537/15537 [==============================] - 2s 98us/step - loss: 105667.9981 - val_loss: 202123.6608\n",
      "Epoch 9/100\n",
      "15537/15537 [==============================] - 1s 93us/step - loss: 104732.0015 - val_loss: 202547.4014\n",
      "Epoch 10/100\n",
      "15537/15537 [==============================] - 2s 98us/step - loss: 104745.8408 - val_loss: 203057.1328\n",
      "Epoch 11/100\n",
      "15537/15537 [==============================] - 2s 98us/step - loss: 103958.3020 - val_loss: 209237.6595\n",
      "Epoch 12/100\n",
      "15537/15537 [==============================] - 2s 97us/step - loss: 102786.5183 - val_loss: 202223.3843\n",
      "Epoch 13/100\n",
      "15537/15537 [==============================] - 1s 96us/step - loss: 102261.7299 - val_loss: 202355.0883\n",
      "Epoch 14/100\n",
      "15537/15537 [==============================] - 1s 96us/step - loss: 101258.8320 - val_loss: 201968.3946\n",
      "Epoch 15/100\n",
      "15537/15537 [==============================] - 2s 99us/step - loss: 100304.5222 - val_loss: 202147.8502\n",
      "Epoch 16/100\n",
      "15537/15537 [==============================] - 1s 96us/step - loss: 101225.1769 - val_loss: 202519.8693\n",
      "Epoch 17/100\n",
      "15537/15537 [==============================] - 2s 99us/step - loss: 99916.6754 - val_loss: 203402.9023\n",
      "Epoch 18/100\n",
      "15537/15537 [==============================] - 1s 96us/step - loss: 99967.2516 - val_loss: 202493.3704\n",
      "Epoch 19/100\n",
      "15537/15537 [==============================] - 2s 100us/step - loss: 99898.0397 - val_loss: 203500.8481\n",
      "Epoch 20/100\n",
      "15537/15537 [==============================] - 1s 92us/step - loss: 97160.0024 - val_loss: 202312.9583\n",
      "Epoch 21/100\n",
      "15537/15537 [==============================] - 1s 92us/step - loss: 97717.1272 - val_loss: 202050.8028\n",
      "Epoch 22/100\n",
      "15537/15537 [==============================] - 1s 96us/step - loss: 96805.9570 - val_loss: 204384.5128\n",
      "Epoch 23/100\n",
      "15537/15537 [==============================] - 1s 96us/step - loss: 92532.9585 - val_loss: 202304.4751\n",
      "Epoch 24/100\n",
      "15537/15537 [==============================] - 1s 95us/step - loss: 94935.3529 - val_loss: 203050.5616\n",
      "Epoch 25/100\n",
      "15537/15537 [==============================] - 2s 97us/step - loss: 95807.6818 - val_loss: 204682.9974\n",
      "Epoch 26/100\n",
      "15537/15537 [==============================] - 1s 95us/step - loss: 93628.0098 - val_loss: 203898.1897\n",
      "Epoch 27/100\n",
      "15537/15537 [==============================] - 2s 97us/step - loss: 90111.3813 - val_loss: 211662.4723\n",
      "Epoch 28/100\n",
      "15537/15537 [==============================] - 2s 98us/step - loss: 97557.4106 - val_loss: 205110.9659\n",
      "Epoch 29/100\n",
      "15537/15537 [==============================] - 1s 96us/step - loss: 88266.5337 - val_loss: 203223.7465\n",
      "Epoch 30/100\n",
      "15537/15537 [==============================] - 2s 100us/step - loss: 90154.6826 - val_loss: 207860.8065\n",
      "Epoch 31/100\n",
      "15537/15537 [==============================] - 1s 95us/step - loss: 87912.9980 - val_loss: 204547.0378\n",
      "Epoch 32/100\n",
      "15537/15537 [==============================] - 1s 96us/step - loss: 84401.7452 - val_loss: 205411.1755\n",
      "Epoch 33/100\n",
      "15537/15537 [==============================] - 1s 97us/step - loss: 90427.9790 - val_loss: 206702.4241\n",
      "Epoch 34/100\n",
      "15537/15537 [==============================] - 2s 99us/step - loss: 85355.2316 - val_loss: 202311.3278\n",
      "Epoch 35/100\n",
      "15537/15537 [==============================] - 2s 98us/step - loss: 84522.9492 - val_loss: 202234.9086\n",
      "Epoch 36/100\n",
      "15537/15537 [==============================] - 2s 97us/step - loss: 82053.5919 - val_loss: 202617.4914\n",
      "Epoch 37/100\n",
      "15537/15537 [==============================] - 2s 97us/step - loss: 83247.1437 - val_loss: 202170.0979\n",
      "Epoch 38/100\n",
      "15537/15537 [==============================] - 1s 95us/step - loss: 84813.6381 - val_loss: 205194.2847\n",
      "Epoch 39/100\n",
      "15537/15537 [==============================] - 2s 100us/step - loss: 82208.2758 - val_loss: 214769.7156\n",
      "Epoch 40/100\n",
      "15537/15537 [==============================] - 2s 99us/step - loss: 81802.3424 - val_loss: 204278.9349\n",
      "Epoch 41/100\n",
      "15537/15537 [==============================] - 2s 100us/step - loss: 77115.8643 - val_loss: 212918.1100\n",
      "Epoch 42/100\n",
      "15537/15537 [==============================] - 2s 100us/step - loss: 79189.2794 - val_loss: 203383.1149\n",
      "Epoch 43/100\n",
      "15537/15537 [==============================] - 2s 102us/step - loss: 72010.6841 - val_loss: 202592.7243\n",
      "Epoch 44/100\n",
      "15537/15537 [==============================] - 2s 100us/step - loss: 69972.2223 - val_loss: 202825.4521\n",
      "Epoch 45/100\n",
      "15537/15537 [==============================] - 1s 94us/step - loss: 74460.1503 - val_loss: 211163.4483\n",
      "Epoch 46/100\n",
      "15537/15537 [==============================] - 1s 91us/step - loss: 72852.1423 - val_loss: 206985.8327\n",
      "Epoch 47/100\n",
      "15537/15537 [==============================] - 1s 95us/step - loss: 71866.7668 - val_loss: 202877.6968\n",
      "Epoch 48/100\n",
      "15537/15537 [==============================] - 1s 94us/step - loss: 67298.6050 - val_loss: 212833.9189\n",
      "Epoch 49/100\n",
      "15537/15537 [==============================] - 1s 94us/step - loss: 64283.1339 - val_loss: 206348.7234\n",
      "Epoch 50/100\n",
      "15537/15537 [==============================] - 2s 101us/step - loss: 72493.2971 - val_loss: 204792.9704\n",
      "Epoch 51/100\n",
      "15537/15537 [==============================] - 1s 97us/step - loss: 68430.8919 - val_loss: 207065.8424\n",
      "Epoch 52/100\n",
      "15537/15537 [==============================] - 2s 97us/step - loss: 63611.4530 - val_loss: 209616.9050\n",
      "Epoch 53/100\n",
      "15537/15537 [==============================] - 2s 98us/step - loss: 68001.5954 - val_loss: 203407.2195\n",
      "Epoch 54/100\n",
      "15537/15537 [==============================] - 1s 94us/step - loss: 64564.3748 - val_loss: 202544.0426\n",
      "Epoch 55/100\n",
      "15537/15537 [==============================] - 2s 99us/step - loss: 70387.0886 - val_loss: 204297.3270\n",
      "Epoch 56/100\n",
      "15537/15537 [==============================] - 1s 95us/step - loss: 63601.4899 - val_loss: 207209.6739\n",
      "Epoch 57/100\n",
      "15537/15537 [==============================] - 2s 98us/step - loss: 52438.4187 - val_loss: 201931.6692\n",
      "Epoch 58/100\n",
      "15537/15537 [==============================] - 2s 98us/step - loss: 64679.2771 - val_loss: 202315.5051\n",
      "Epoch 59/100\n",
      "15537/15537 [==============================] - 2s 101us/step - loss: 64483.6861 - val_loss: 205614.5606\n",
      "Epoch 60/100\n",
      "15537/15537 [==============================] - 1s 95us/step - loss: 62366.1319 - val_loss: 205093.5416\n",
      "Epoch 61/100\n",
      "15537/15537 [==============================] - 1s 95us/step - loss: 58575.1731 - val_loss: 223788.9174\n",
      "Epoch 62/100\n",
      "15537/15537 [==============================] - 1s 93us/step - loss: 56854.5266 - val_loss: 219031.0702\n",
      "Epoch 63/100\n",
      "15537/15537 [==============================] - 1s 93us/step - loss: 59715.8730 - val_loss: 202814.8160\n",
      "Epoch 64/100\n",
      "15537/15537 [==============================] - 2s 98us/step - loss: 56348.8532 - val_loss: 205085.0249\n",
      "Epoch 65/100\n",
      "15537/15537 [==============================] - 1s 95us/step - loss: 62387.0361 - val_loss: 214987.4818\n",
      "Epoch 66/100\n",
      "15537/15537 [==============================] - 1s 94us/step - loss: 50430.1911 - val_loss: 204412.5144\n",
      "Epoch 67/100\n",
      "15537/15537 [==============================] - 1s 95us/step - loss: 57370.9221 - val_loss: 208246.1714\n",
      "Epoch 68/100\n",
      "15537/15537 [==============================] - 1s 96us/step - loss: 59422.2000 - val_loss: 209755.9676\n",
      "Epoch 69/100\n",
      "15537/15537 [==============================] - 2s 97us/step - loss: 39368.5518 - val_loss: 223904.2299\n",
      "Epoch 70/100\n",
      "15537/15537 [==============================] - 1s 95us/step - loss: 51210.8335 - val_loss: 204158.6799\n",
      "Epoch 71/100\n"
     ]
    },
    {
     "name": "stdout",
     "output_type": "stream",
     "text": [
      "15537/15537 [==============================] - 2s 97us/step - loss: 60519.1098 - val_loss: 203301.5612\n",
      "Epoch 72/100\n",
      "15537/15537 [==============================] - 1s 95us/step - loss: 57976.9222 - val_loss: 202249.8884\n",
      "Epoch 73/100\n",
      "15537/15537 [==============================] - 1s 95us/step - loss: 44529.8807 - val_loss: 212195.7106\n",
      "Epoch 74/100\n",
      "15537/15537 [==============================] - 1s 96us/step - loss: 39436.1200 - val_loss: 210815.5533\n",
      "Epoch 75/100\n",
      "15537/15537 [==============================] - 1s 96us/step - loss: 37333.8848 - val_loss: 203509.5485\n",
      "Epoch 76/100\n",
      "15537/15537 [==============================] - 1s 95us/step - loss: 60432.7079 - val_loss: 203185.1948\n",
      "Epoch 77/100\n",
      "15537/15537 [==============================] - 2s 99us/step - loss: 46966.0235 - val_loss: 201695.5677\n",
      "Epoch 78/100\n",
      "15537/15537 [==============================] - 1s 95us/step - loss: 45006.1567 - val_loss: 202121.6580\n",
      "Epoch 79/100\n",
      "15537/15537 [==============================] - 2s 98us/step - loss: 46863.2198 - val_loss: 201723.9323\n",
      "Epoch 80/100\n",
      "15537/15537 [==============================] - 2s 97us/step - loss: 30361.0073 - val_loss: 209054.6719\n",
      "Epoch 81/100\n",
      "15537/15537 [==============================] - 2s 97us/step - loss: 29957.6850 - val_loss: 203315.7937\n",
      "Epoch 82/100\n",
      "15537/15537 [==============================] - 2s 99us/step - loss: 35374.1443 - val_loss: 223415.9999\n",
      "Epoch 83/100\n",
      "15537/15537 [==============================] - 1s 96us/step - loss: 43130.9778 - val_loss: 203552.8302\n",
      "Epoch 84/100\n",
      "15537/15537 [==============================] - 2s 97us/step - loss: 35129.7401 - val_loss: 258421.8180\n",
      "Epoch 85/100\n",
      "15537/15537 [==============================] - 1s 93us/step - loss: 45927.1245 - val_loss: 211752.3205\n",
      "Epoch 86/100\n",
      "15537/15537 [==============================] - 1s 95us/step - loss: 53961.6597 - val_loss: 201695.6397\n",
      "Epoch 87/100\n",
      "15537/15537 [==============================] - 1s 93us/step - loss: 45627.2065 - val_loss: 201752.9899\n",
      "Epoch 88/100\n",
      "15537/15537 [==============================] - 1s 95us/step - loss: 45791.0139 - val_loss: 205808.7655\n",
      "Epoch 89/100\n",
      "15537/15537 [==============================] - 1s 89us/step - loss: 35068.7928 - val_loss: 201711.5120\n",
      "Epoch 90/100\n",
      "15537/15537 [==============================] - 2s 100us/step - loss: 47699.8979 - val_loss: 201686.4706\n",
      "Epoch 91/100\n",
      "15537/15537 [==============================] - 2s 97us/step - loss: 34257.2181 - val_loss: 208047.8731\n",
      "Epoch 92/100\n",
      "15537/15537 [==============================] - 1s 95us/step - loss: 39983.7866 - val_loss: 201831.6210\n",
      "Epoch 93/100\n",
      "15537/15537 [==============================] - 2s 97us/step - loss: 46432.9072 - val_loss: 203020.3504\n",
      "Epoch 94/100\n",
      "15537/15537 [==============================] - 1s 95us/step - loss: 26757.7228 - val_loss: 213103.0314\n",
      "Epoch 95/100\n",
      "15537/15537 [==============================] - 2s 99us/step - loss: 73471.4638 - val_loss: 203679.6101\n",
      "Epoch 96/100\n",
      "15537/15537 [==============================] - 1s 95us/step - loss: 32895.7368 - val_loss: 213188.9637\n",
      "Epoch 97/100\n",
      "15537/15537 [==============================] - 1s 95us/step - loss: 32927.7024 - val_loss: 202678.1290\n",
      "Epoch 98/100\n",
      "15537/15537 [==============================] - 1s 95us/step - loss: 38319.5932 - val_loss: 201698.8573\n",
      "Epoch 99/100\n",
      "15537/15537 [==============================] - 1s 95us/step - loss: 27900.8298 - val_loss: 211892.9314\n",
      "Epoch 100/100\n",
      "15537/15537 [==============================] - 2s 97us/step - loss: 57860.5293 - val_loss: 201772.2034\n"
     ]
    }
   ],
   "source": [
    "history= model.fit(train_X, train_y,\n",
    "          batch_size=32, epochs=100,\n",
    "          validation_data=(test_X, test_y))"
   ]
  },
  {
   "cell_type": "code",
   "execution_count": 124,
   "metadata": {},
   "outputs": [],
   "source": [
    "import matplotlib.pyplot as plt"
   ]
  },
  {
   "cell_type": "code",
   "execution_count": 127,
   "metadata": {},
   "outputs": [
    {
     "data": {
      "image/png": "[encoded data removed]",
      "text/plain": [
       "<Figure size 432x288 with 1 Axes>"
      ]
     },
     "metadata": {
      "needs_background": "light"
     },
     "output_type": "display_data"
    }
   ],
   "source": [
    "plt.plot(history.history['loss'])\n",
    "plt.plot(history.history['val_loss'])\n",
    "plt.title('Model loss')\n",
    "plt.ylabel('Loss')\n",
    "plt.xlabel('Epoch')\n",
    "plt.legend(['Train', 'Val'], loc='upper right')\n",
    "plt.ylim(top=300000, bottom=0)\n",
    "plt.show()"
   ]
  },
  {
   "cell_type": "code",
   "execution_count": null,
   "metadata": {},
   "outputs": [],
   "source": []
  }
 ],
 "metadata": {
  "kernelspec": {
   "display_name": "Python 3",
   "language": "python",
   "name": "python3"
  },
  "language_info": {
   "codemirror_mode": {
    "name": "ipython",
    "version": 3
   },
   "file_extension": ".py",
   "mimetype": "text/x-python",
   "name": "python",
   "nbconvert_exporter": "python",
   "pygments_lexer": "ipython3",
   "version": "3.7.3"
  }
 },
 "nbformat": 4,
 "nbformat_minor": 2
}
