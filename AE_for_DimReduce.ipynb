{
 "cells": [
  {
   "cell_type": "code",
   "execution_count": 1,
   "metadata": {},
   "outputs": [],
   "source": [
    "import pandas as pd"
   ]
  },
  {
   "cell_type": "code",
   "execution_count": 2,
   "metadata": {},
   "outputs": [],
   "source": [
    "import numpy as np"
   ]
  },
  {
   "cell_type": "code",
   "execution_count": 3,
   "metadata": {},
   "outputs": [],
   "source": [
    "import os"
   ]
  },
  {
   "cell_type": "code",
   "execution_count": 4,
   "metadata": {},
   "outputs": [],
   "source": [
    "os.chdir('/home/externalFolder/dataFile/')"
   ]
  },
  {
   "cell_type": "code",
   "execution_count": 5,
   "metadata": {},
   "outputs": [],
   "source": [
    "file_chdir=os.getcwd()"
   ]
  },
  {
   "cell_type": "code",
   "execution_count": 6,
   "metadata": {},
   "outputs": [
    {
     "name": "stdout",
     "output_type": "stream",
     "text": [
      "/home/externalFolder/dataFile\n"
     ]
    }
   ],
   "source": [
    "print(file_chdir)"
   ]
  },
  {
   "cell_type": "code",
   "execution_count": 7,
   "metadata": {},
   "outputs": [],
   "source": [
    "filecsv_list=[]"
   ]
  },
  {
   "cell_type": "code",
   "execution_count": 8,
   "metadata": {},
   "outputs": [],
   "source": [
    "for root,dirs,files in os.walk(file_chdir):\n",
    "    for file in files:\n",
    "        if os.path.splitext(file)[1]==\".csv\":\n",
    "            filecsv_list.append(file)"
   ]
  },
  {
   "cell_type": "code",
   "execution_count": 9,
   "metadata": {},
   "outputs": [
    {
     "name": "stdout",
     "output_type": "stream",
     "text": [
      "_chr1_RP1-224A6.3cut_frome_ref0711.csv\n"
     ]
    }
   ],
   "source": [
    "print(filecsv_list[1290])"
   ]
  },
  {
   "cell_type": "code",
   "execution_count": 10,
   "metadata": {},
   "outputs": [],
   "source": [
    "data=[]"
   ]
  },
  {
   "cell_type": "code",
   "execution_count": 11,
   "metadata": {},
   "outputs": [
    {
     "ename": "KeyboardInterrupt",
     "evalue": "",
     "output_type": "error",
     "traceback": [
      "\u001b[0;31m---------------------------------------------------------------------------\u001b[0m",
      "\u001b[0;31mKeyboardInterrupt\u001b[0m                         Traceback (most recent call last)",
      "\u001b[0;32m<ipython-input-11-4a191e98b889>\u001b[0m in \u001b[0;36m<module>\u001b[0;34m\u001b[0m\n\u001b[1;32m      1\u001b[0m \u001b[0;32mfor\u001b[0m \u001b[0mcsv\u001b[0m \u001b[0;32min\u001b[0m \u001b[0mfilecsv_list\u001b[0m\u001b[0;34m:\u001b[0m\u001b[0;34m\u001b[0m\u001b[0;34m\u001b[0m\u001b[0m\n\u001b[0;32m----> 2\u001b[0;31m     \u001b[0mseqs\u001b[0m\u001b[0;34m=\u001b[0m\u001b[0mpd\u001b[0m\u001b[0;34m.\u001b[0m\u001b[0mread_csv\u001b[0m\u001b[0;34m(\u001b[0m\u001b[0mcsv\u001b[0m\u001b[0;34m,\u001b[0m\u001b[0mheader\u001b[0m\u001b[0;34m=\u001b[0m\u001b[0;32mNone\u001b[0m\u001b[0;34m,\u001b[0m\u001b[0mencoding\u001b[0m\u001b[0;34m=\u001b[0m\u001b[0;34m\"utf8\"\u001b[0m\u001b[0;34m)\u001b[0m\u001b[0;34m\u001b[0m\u001b[0;34m\u001b[0m\u001b[0m\n\u001b[0m\u001b[1;32m      3\u001b[0m     \u001b[0mseqs_list\u001b[0m\u001b[0;34m=\u001b[0m\u001b[0mseqs\u001b[0m\u001b[0;34m.\u001b[0m\u001b[0mvalues\u001b[0m\u001b[0;34m.\u001b[0m\u001b[0mflatten\u001b[0m\u001b[0;34m(\u001b[0m\u001b[0;34m)\u001b[0m\u001b[0;34m\u001b[0m\u001b[0;34m\u001b[0m\u001b[0m\n\u001b[1;32m      4\u001b[0m     \u001b[0mgene_list\u001b[0m\u001b[0;34m=\u001b[0m\u001b[0;34m\"\\t\"\u001b[0m\u001b[0;34m.\u001b[0m\u001b[0mjoin\u001b[0m\u001b[0;34m(\u001b[0m\u001b[0mseqs_list\u001b[0m\u001b[0;34m)\u001b[0m\u001b[0;34m\u001b[0m\u001b[0;34m\u001b[0m\u001b[0m\n\u001b[1;32m      5\u001b[0m     \u001b[0mdata\u001b[0m\u001b[0;34m.\u001b[0m\u001b[0mappend\u001b[0m\u001b[0;34m(\u001b[0m\u001b[0mgene_list\u001b[0m\u001b[0;34m)\u001b[0m\u001b[0;34m\u001b[0m\u001b[0;34m\u001b[0m\u001b[0m\n",
      "\u001b[0;32m~/anaconda3/envs/bgi/lib/python3.7/site-packages/pandas/io/parsers.py\u001b[0m in \u001b[0;36mparser_f\u001b[0;34m(filepath_or_buffer, sep, delimiter, header, names, index_col, usecols, squeeze, prefix, mangle_dupe_cols, dtype, engine, converters, true_values, false_values, skipinitialspace, skiprows, skipfooter, nrows, na_values, keep_default_na, na_filter, verbose, skip_blank_lines, parse_dates, infer_datetime_format, keep_date_col, date_parser, dayfirst, iterator, chunksize, compression, thousands, decimal, lineterminator, quotechar, quoting, doublequote, escapechar, comment, encoding, dialect, tupleize_cols, error_bad_lines, warn_bad_lines, delim_whitespace, low_memory, memory_map, float_precision)\u001b[0m\n\u001b[1;32m    700\u001b[0m                     skip_blank_lines=skip_blank_lines)\n\u001b[1;32m    701\u001b[0m \u001b[0;34m\u001b[0m\u001b[0m\n\u001b[0;32m--> 702\u001b[0;31m         \u001b[0;32mreturn\u001b[0m \u001b[0m_read\u001b[0m\u001b[0;34m(\u001b[0m\u001b[0mfilepath_or_buffer\u001b[0m\u001b[0;34m,\u001b[0m \u001b[0mkwds\u001b[0m\u001b[0;34m)\u001b[0m\u001b[0;34m\u001b[0m\u001b[0;34m\u001b[0m\u001b[0m\n\u001b[0m\u001b[1;32m    703\u001b[0m \u001b[0;34m\u001b[0m\u001b[0m\n\u001b[1;32m    704\u001b[0m     \u001b[0mparser_f\u001b[0m\u001b[0;34m.\u001b[0m\u001b[0m__name__\u001b[0m \u001b[0;34m=\u001b[0m \u001b[0mname\u001b[0m\u001b[0;34m\u001b[0m\u001b[0;34m\u001b[0m\u001b[0m\n",
      "\u001b[0;32m~/anaconda3/envs/bgi/lib/python3.7/site-packages/pandas/io/parsers.py\u001b[0m in \u001b[0;36m_read\u001b[0;34m(filepath_or_buffer, kwds)\u001b[0m\n\u001b[1;32m    433\u001b[0m \u001b[0;34m\u001b[0m\u001b[0m\n\u001b[1;32m    434\u001b[0m     \u001b[0;32mtry\u001b[0m\u001b[0;34m:\u001b[0m\u001b[0;34m\u001b[0m\u001b[0;34m\u001b[0m\u001b[0m\n\u001b[0;32m--> 435\u001b[0;31m         \u001b[0mdata\u001b[0m \u001b[0;34m=\u001b[0m \u001b[0mparser\u001b[0m\u001b[0;34m.\u001b[0m\u001b[0mread\u001b[0m\u001b[0;34m(\u001b[0m\u001b[0mnrows\u001b[0m\u001b[0;34m)\u001b[0m\u001b[0;34m\u001b[0m\u001b[0;34m\u001b[0m\u001b[0m\n\u001b[0m\u001b[1;32m    436\u001b[0m     \u001b[0;32mfinally\u001b[0m\u001b[0;34m:\u001b[0m\u001b[0;34m\u001b[0m\u001b[0;34m\u001b[0m\u001b[0m\n\u001b[1;32m    437\u001b[0m         \u001b[0mparser\u001b[0m\u001b[0;34m.\u001b[0m\u001b[0mclose\u001b[0m\u001b[0;34m(\u001b[0m\u001b[0;34m)\u001b[0m\u001b[0;34m\u001b[0m\u001b[0;34m\u001b[0m\u001b[0m\n",
      "\u001b[0;32m~/anaconda3/envs/bgi/lib/python3.7/site-packages/pandas/io/parsers.py\u001b[0m in \u001b[0;36mread\u001b[0;34m(self, nrows)\u001b[0m\n\u001b[1;32m   1137\u001b[0m     \u001b[0;32mdef\u001b[0m \u001b[0mread\u001b[0m\u001b[0;34m(\u001b[0m\u001b[0mself\u001b[0m\u001b[0;34m,\u001b[0m \u001b[0mnrows\u001b[0m\u001b[0;34m=\u001b[0m\u001b[0;32mNone\u001b[0m\u001b[0;34m)\u001b[0m\u001b[0;34m:\u001b[0m\u001b[0;34m\u001b[0m\u001b[0;34m\u001b[0m\u001b[0m\n\u001b[1;32m   1138\u001b[0m         \u001b[0mnrows\u001b[0m \u001b[0;34m=\u001b[0m \u001b[0m_validate_integer\u001b[0m\u001b[0;34m(\u001b[0m\u001b[0;34m'nrows'\u001b[0m\u001b[0;34m,\u001b[0m \u001b[0mnrows\u001b[0m\u001b[0;34m)\u001b[0m\u001b[0;34m\u001b[0m\u001b[0;34m\u001b[0m\u001b[0m\n\u001b[0;32m-> 1139\u001b[0;31m         \u001b[0mret\u001b[0m \u001b[0;34m=\u001b[0m \u001b[0mself\u001b[0m\u001b[0;34m.\u001b[0m\u001b[0m_engine\u001b[0m\u001b[0;34m.\u001b[0m\u001b[0mread\u001b[0m\u001b[0;34m(\u001b[0m\u001b[0mnrows\u001b[0m\u001b[0;34m)\u001b[0m\u001b[0;34m\u001b[0m\u001b[0;34m\u001b[0m\u001b[0m\n\u001b[0m\u001b[1;32m   1140\u001b[0m \u001b[0;34m\u001b[0m\u001b[0m\n\u001b[1;32m   1141\u001b[0m         \u001b[0;31m# May alter columns / col_dict\u001b[0m\u001b[0;34m\u001b[0m\u001b[0;34m\u001b[0m\u001b[0;34m\u001b[0m\u001b[0m\n",
      "\u001b[0;32m~/anaconda3/envs/bgi/lib/python3.7/site-packages/pandas/io/parsers.py\u001b[0m in \u001b[0;36mread\u001b[0;34m(self, nrows)\u001b[0m\n\u001b[1;32m   1993\u001b[0m     \u001b[0;32mdef\u001b[0m \u001b[0mread\u001b[0m\u001b[0;34m(\u001b[0m\u001b[0mself\u001b[0m\u001b[0;34m,\u001b[0m \u001b[0mnrows\u001b[0m\u001b[0;34m=\u001b[0m\u001b[0;32mNone\u001b[0m\u001b[0;34m)\u001b[0m\u001b[0;34m:\u001b[0m\u001b[0;34m\u001b[0m\u001b[0;34m\u001b[0m\u001b[0m\n\u001b[1;32m   1994\u001b[0m         \u001b[0;32mtry\u001b[0m\u001b[0;34m:\u001b[0m\u001b[0;34m\u001b[0m\u001b[0;34m\u001b[0m\u001b[0m\n\u001b[0;32m-> 1995\u001b[0;31m             \u001b[0mdata\u001b[0m \u001b[0;34m=\u001b[0m \u001b[0mself\u001b[0m\u001b[0;34m.\u001b[0m\u001b[0m_reader\u001b[0m\u001b[0;34m.\u001b[0m\u001b[0mread\u001b[0m\u001b[0;34m(\u001b[0m\u001b[0mnrows\u001b[0m\u001b[0;34m)\u001b[0m\u001b[0;34m\u001b[0m\u001b[0;34m\u001b[0m\u001b[0m\n\u001b[0m\u001b[1;32m   1996\u001b[0m         \u001b[0;32mexcept\u001b[0m \u001b[0mStopIteration\u001b[0m\u001b[0;34m:\u001b[0m\u001b[0;34m\u001b[0m\u001b[0;34m\u001b[0m\u001b[0m\n\u001b[1;32m   1997\u001b[0m             \u001b[0;32mif\u001b[0m \u001b[0mself\u001b[0m\u001b[0;34m.\u001b[0m\u001b[0m_first_chunk\u001b[0m\u001b[0;34m:\u001b[0m\u001b[0;34m\u001b[0m\u001b[0;34m\u001b[0m\u001b[0m\n",
      "\u001b[0;32mpandas/_libs/parsers.pyx\u001b[0m in \u001b[0;36mpandas._libs.parsers.TextReader.read\u001b[0;34m()\u001b[0m\n",
      "\u001b[0;32mpandas/_libs/parsers.pyx\u001b[0m in \u001b[0;36mpandas._libs.parsers.TextReader._read_low_memory\u001b[0;34m()\u001b[0m\n",
      "\u001b[0;32mpandas/_libs/parsers.pyx\u001b[0m in \u001b[0;36mpandas._libs.parsers.TextReader._read_rows\u001b[0;34m()\u001b[0m\n",
      "\u001b[0;32mpandas/_libs/parsers.pyx\u001b[0m in \u001b[0;36mpandas._libs.parsers.TextReader._convert_column_data\u001b[0;34m()\u001b[0m\n",
      "\u001b[0;32mpandas/_libs/parsers.pyx\u001b[0m in \u001b[0;36mpandas._libs.parsers.TextReader._convert_tokens\u001b[0;34m()\u001b[0m\n",
      "\u001b[0;32mpandas/_libs/parsers.pyx\u001b[0m in \u001b[0;36mpandas._libs.parsers.TextReader._convert_with_dtype\u001b[0;34m()\u001b[0m\n",
      "\u001b[0;32m~/anaconda3/envs/bgi/lib/python3.7/site-packages/pandas/core/dtypes/common.py\u001b[0m in \u001b[0;36mis_categorical_dtype\u001b[0;34m(arr_or_dtype)\u001b[0m\n\u001b[1;32m    570\u001b[0m \u001b[0;34m\u001b[0m\u001b[0m\n\u001b[1;32m    571\u001b[0m \u001b[0;34m\u001b[0m\u001b[0m\n\u001b[0;32m--> 572\u001b[0;31m \u001b[0;32mdef\u001b[0m \u001b[0mis_categorical_dtype\u001b[0m\u001b[0;34m(\u001b[0m\u001b[0marr_or_dtype\u001b[0m\u001b[0;34m)\u001b[0m\u001b[0;34m:\u001b[0m\u001b[0;34m\u001b[0m\u001b[0;34m\u001b[0m\u001b[0m\n\u001b[0m\u001b[1;32m    573\u001b[0m     \"\"\"\n\u001b[1;32m    574\u001b[0m     \u001b[0mCheck\u001b[0m \u001b[0mwhether\u001b[0m \u001b[0man\u001b[0m \u001b[0marray\u001b[0m\u001b[0;34m-\u001b[0m\u001b[0mlike\u001b[0m \u001b[0;32mor\u001b[0m \u001b[0mdtype\u001b[0m \u001b[0;32mis\u001b[0m \u001b[0mof\u001b[0m \u001b[0mthe\u001b[0m \u001b[0mCategorical\u001b[0m \u001b[0mdtype\u001b[0m\u001b[0;34m.\u001b[0m\u001b[0;34m\u001b[0m\u001b[0;34m\u001b[0m\u001b[0m\n",
      "\u001b[0;31mKeyboardInterrupt\u001b[0m: "
     ]
    }
   ],
   "source": [
    "for csv in filecsv_list:\n",
    "    seqs=pd.read_csv(csv,header=None,encoding=\"utf8\")\n",
    "    seqs_list=seqs.values.flatten()\n",
    "    gene_list=\"\\t\".join(seqs_list)\n",
    "    data.append(gene_list)"
   ]
  },
  {
   "cell_type": "code",
   "execution_count": null,
   "metadata": {},
   "outputs": [],
   "source": [
    "#保存读取的文件列表"
   ]
  },
  {
   "cell_type": "code",
   "execution_count": null,
   "metadata": {},
   "outputs": [],
   "source": [
    "df = open(\"/home/ALL.txt\",\"a+\")"
   ]
  },
  {
   "cell_type": "code",
   "execution_count": null,
   "metadata": {},
   "outputs": [],
   "source": [
    "for line in data:\n",
    "    df.write(line+\"\\n\")"
   ]
  },
  {
   "cell_type": "code",
   "execution_count": null,
   "metadata": {},
   "outputs": [],
   "source": [
    "df.close()"
   ]
  },
  {
   "cell_type": "code",
   "execution_count": null,
   "metadata": {},
   "outputs": [],
   "source": [
    "#data.to_csv(\"ALL.csv\",index=0,header=None)"
   ]
  },
  {
   "cell_type": "code",
   "execution_count": null,
   "metadata": {},
   "outputs": [],
   "source": [
    "#print(data)"
   ]
  },
  {
   "cell_type": "code",
   "execution_count": null,
   "metadata": {},
   "outputs": [],
   "source": []
  },
  {
   "cell_type": "code",
   "execution_count": null,
   "metadata": {},
   "outputs": [],
   "source": []
  },
  {
   "cell_type": "code",
   "execution_count": null,
   "metadata": {},
   "outputs": [],
   "source": [
    "#以上为数据处理过程"
   ]
  },
  {
   "cell_type": "code",
   "execution_count": 52,
   "metadata": {},
   "outputs": [],
   "source": [
    "df = open(\"/home/externalFolder/ALL.txt\",\"r\")"
   ]
  },
  {
   "cell_type": "code",
   "execution_count": 53,
   "metadata": {},
   "outputs": [
    {
     "name": "stdout",
     "output_type": "stream",
     "text": [
      "<_io.TextIOWrapper name='/home/externalFolder/ALL.txt' mode='r' encoding='UTF-8'>\n"
     ]
    }
   ],
   "source": [
    "print(df)"
   ]
  },
  {
   "cell_type": "code",
   "execution_count": 54,
   "metadata": {},
   "outputs": [],
   "source": [
    "allData=[]"
   ]
  },
  {
   "cell_type": "code",
   "execution_count": 55,
   "metadata": {},
   "outputs": [],
   "source": [
    "import time"
   ]
  },
  {
   "cell_type": "code",
   "execution_count": 56,
   "metadata": {},
   "outputs": [],
   "source": [
    "for line in df.readlines():\n",
    "    line=line.strip().split()\n",
    "    line=list(map(float,line))\n",
    "    allData.append(line)"
   ]
  },
  {
   "cell_type": "code",
   "execution_count": 57,
   "metadata": {},
   "outputs": [],
   "source": [
    "allData=np.array(allData)"
   ]
  },
  {
   "cell_type": "code",
   "execution_count": 58,
   "metadata": {},
   "outputs": [
    {
     "data": {
      "text/plain": [
       "(array([[2.6307e-03, 6.9186e-04, 4.5192e-03, ..., 1.9398e-02, 2.3205e-01,\n",
       "         1.1585e-02],\n",
       "        [1.8056e-04, 6.8048e-05, 1.9893e-04, ..., 3.6776e-03, 1.5886e-01,\n",
       "         5.7579e-03],\n",
       "        [1.5603e-03, 1.3074e-02, 2.8531e-03, ..., 9.3641e-03, 1.4716e-01,\n",
       "         1.7455e-03],\n",
       "        ...,\n",
       "        [2.3148e-04, 4.2565e-04, 4.7680e-04, ..., 4.6854e-04, 3.7291e-02,\n",
       "         2.7685e-02],\n",
       "        [1.2937e-02, 2.4322e-02, 1.6140e-02, ..., 2.1295e-02, 1.2517e-01,\n",
       "         1.4104e-02],\n",
       "        [6.9710e-03, 1.1012e-02, 6.4290e-03, ..., 8.7532e-03, 2.7323e-02,\n",
       "         2.1891e-04]]), numpy.ndarray, (2431, 183800))"
      ]
     },
     "execution_count": 58,
     "metadata": {},
     "output_type": "execute_result"
    }
   ],
   "source": [
    "allData,type(allData),allData.shape"
   ]
  },
  {
   "cell_type": "code",
   "execution_count": 59,
   "metadata": {},
   "outputs": [],
   "source": [
    "allData=allData.astype('float32')"
   ]
  },
  {
   "cell_type": "code",
   "execution_count": 60,
   "metadata": {},
   "outputs": [
    {
     "data": {
      "text/plain": [
       "(array([[2.6307e-03, 6.9186e-04, 4.5192e-03, ..., 1.9398e-02, 2.3205e-01,\n",
       "         1.1585e-02],\n",
       "        [1.8056e-04, 6.8048e-05, 1.9893e-04, ..., 3.6776e-03, 1.5886e-01,\n",
       "         5.7579e-03],\n",
       "        [1.5603e-03, 1.3074e-02, 2.8531e-03, ..., 9.3641e-03, 1.4716e-01,\n",
       "         1.7455e-03],\n",
       "        ...,\n",
       "        [2.3148e-04, 4.2565e-04, 4.7680e-04, ..., 4.6854e-04, 3.7291e-02,\n",
       "         2.7685e-02],\n",
       "        [1.2937e-02, 2.4322e-02, 1.6140e-02, ..., 2.1295e-02, 1.2517e-01,\n",
       "         1.4104e-02],\n",
       "        [6.9710e-03, 1.1012e-02, 6.4290e-03, ..., 8.7532e-03, 2.7323e-02,\n",
       "         2.1891e-04]], dtype=float32), numpy.ndarray, (2431, 183800))"
      ]
     },
     "execution_count": 60,
     "metadata": {},
     "output_type": "execute_result"
    }
   ],
   "source": [
    "allData,type(allData),allData.shape"
   ]
  },
  {
   "cell_type": "code",
   "execution_count": 61,
   "metadata": {},
   "outputs": [],
   "source": [
    "from keras.layers import Input, Dense\n",
    "from keras.models import Model"
   ]
  },
  {
   "cell_type": "code",
   "execution_count": 106,
   "metadata": {},
   "outputs": [],
   "source": [
    "import warnings\n",
    "warnings.filterwarnings('ignore')"
   ]
  },
  {
   "cell_type": "code",
   "execution_count": 107,
   "metadata": {},
   "outputs": [],
   "source": [
    "encoding_dim = 100"
   ]
  },
  {
   "cell_type": "code",
   "execution_count": 108,
   "metadata": {},
   "outputs": [],
   "source": [
    "input_img = Input(shape=(200*919,))"
   ]
  },
  {
   "cell_type": "code",
   "execution_count": 109,
   "metadata": {},
   "outputs": [],
   "source": [
    "encoded = Dense(encoding_dim, activation='relu')(input_img)"
   ]
  },
  {
   "cell_type": "code",
   "execution_count": null,
   "metadata": {},
   "outputs": [],
   "source": []
  },
  {
   "cell_type": "code",
   "execution_count": 110,
   "metadata": {},
   "outputs": [],
   "source": [
    "decoded = Dense(200*919, activation='relu')(encoded)"
   ]
  },
  {
   "cell_type": "code",
   "execution_count": null,
   "metadata": {},
   "outputs": [],
   "source": []
  },
  {
   "cell_type": "code",
   "execution_count": 111,
   "metadata": {},
   "outputs": [],
   "source": [
    "autoencoder = Model(input=input_img, output=decoded)"
   ]
  },
  {
   "cell_type": "code",
   "execution_count": 112,
   "metadata": {},
   "outputs": [],
   "source": [
    "encoder = Model(input=input_img, output=encoded)"
   ]
  },
  {
   "cell_type": "code",
   "execution_count": 113,
   "metadata": {},
   "outputs": [],
   "source": [
    "#encoded_input = Input(shape=(encoding_dim,))\n",
    "#decoder_layer = autoencoder.layers[-1]\n",
    "#decoder = Model(input=encoded_input, output=decoder_layer(encoded_input))"
   ]
  },
  {
   "cell_type": "code",
   "execution_count": 114,
   "metadata": {},
   "outputs": [],
   "source": [
    "autoencoder.compile(optimizer='adam', loss='mse')"
   ]
  },
  {
   "cell_type": "code",
   "execution_count": 115,
   "metadata": {},
   "outputs": [
    {
     "name": "stdout",
     "output_type": "stream",
     "text": [
      "_________________________________________________________________\n",
      "Layer (type)                 Output Shape              Param #   \n",
      "=================================================================\n",
      "input_7 (InputLayer)         (None, 183800)            0         \n",
      "_________________________________________________________________\n",
      "dense_7 (Dense)              (None, 100)               18380100  \n",
      "_________________________________________________________________\n",
      "dense_8 (Dense)              (None, 183800)            18563800  \n",
      "=================================================================\n",
      "Total params: 36,943,900\n",
      "Trainable params: 36,943,900\n",
      "Non-trainable params: 0\n",
      "_________________________________________________________________\n"
     ]
    }
   ],
   "source": [
    "autoencoder.summary()"
   ]
  },
  {
   "cell_type": "code",
   "execution_count": 121,
   "metadata": {},
   "outputs": [
    {
     "name": "stdout",
     "output_type": "stream",
     "text": [
      "_________________________________________________________________\n",
      "Layer (type)                 Output Shape              Param #   \n",
      "=================================================================\n",
      "input_7 (InputLayer)         (None, 183800)            0         \n",
      "_________________________________________________________________\n",
      "dense_7 (Dense)              (None, 100)               18380100  \n",
      "=================================================================\n",
      "Total params: 18,380,100\n",
      "Trainable params: 18,380,100\n",
      "Non-trainable params: 0\n",
      "_________________________________________________________________\n"
     ]
    }
   ],
   "source": [
    "encoder.summary()"
   ]
  },
  {
   "cell_type": "code",
   "execution_count": 122,
   "metadata": {},
   "outputs": [],
   "source": [
    "x_train = allData[:2000,:]"
   ]
  },
  {
   "cell_type": "code",
   "execution_count": 123,
   "metadata": {},
   "outputs": [],
   "source": [
    "x_test=allData[2000:,:]"
   ]
  },
  {
   "cell_type": "code",
   "execution_count": 124,
   "metadata": {},
   "outputs": [
    {
     "name": "stdout",
     "output_type": "stream",
     "text": [
      "[[2.6307e-03 6.9186e-04 4.5192e-03 ... 1.9398e-02 2.3205e-01 1.1585e-02]\n",
      " [1.8056e-04 6.8048e-05 1.9893e-04 ... 3.6776e-03 1.5886e-01 5.7579e-03]\n",
      " [1.5603e-03 1.3074e-02 2.8531e-03 ... 9.3641e-03 1.4716e-01 1.7455e-03]\n",
      " ...\n",
      " [2.9634e-04 1.7942e-03 7.0343e-04 ... 1.2877e-03 6.0729e-02 2.4778e-03]\n",
      " [7.2436e-03 8.0623e-03 1.3437e-02 ... 3.6484e-02 2.9080e-01 4.0249e-03]\n",
      " [7.3477e-04 2.0386e-03 1.1914e-03 ... 1.2099e-02 1.0486e-01 2.6258e-02]] <class 'numpy.ndarray'> (2000, 183800)\n"
     ]
    }
   ],
   "source": [
    "print(x_train,type(x_train),x_train.shape)"
   ]
  },
  {
   "cell_type": "code",
   "execution_count": 125,
   "metadata": {},
   "outputs": [
    {
     "name": "stdout",
     "output_type": "stream",
     "text": [
      "[[3.9200e-03 4.3770e-03 2.9266e-03 ... 7.9850e-03 6.1250e-02 3.2343e-02]\n",
      " [1.9587e-03 1.0647e-04 8.8398e-04 ... 8.2995e-04 9.3681e-02 3.2649e-03]\n",
      " [2.2034e-04 4.0516e-04 4.7584e-04 ... 2.2990e-03 9.5705e-02 1.6167e-02]\n",
      " ...\n",
      " [2.3148e-04 4.2565e-04 4.7680e-04 ... 4.6854e-04 3.7291e-02 2.7685e-02]\n",
      " [1.2937e-02 2.4322e-02 1.6140e-02 ... 2.1295e-02 1.2517e-01 1.4104e-02]\n",
      " [6.9710e-03 1.1012e-02 6.4290e-03 ... 8.7532e-03 2.7323e-02 2.1891e-04]] <class 'numpy.ndarray'> (431, 183800)\n"
     ]
    }
   ],
   "source": [
    "print(x_test,type(x_test),x_test.shape)"
   ]
  },
  {
   "cell_type": "code",
   "execution_count": 126,
   "metadata": {},
   "outputs": [
    {
     "name": "stdout",
     "output_type": "stream",
     "text": [
      "Train on 2000 samples, validate on 431 samples\n",
      "Epoch 1/50\n",
      "2000/2000 [==============================] - 18s 9ms/step - loss: 0.0039 - val_loss: 0.0039\n",
      "Epoch 2/50\n",
      "2000/2000 [==============================] - 17s 8ms/step - loss: 0.0039 - val_loss: 0.0039\n",
      "Epoch 3/50\n",
      "2000/2000 [==============================] - 16s 8ms/step - loss: 0.0039 - val_loss: 0.0039\n",
      "Epoch 4/50\n",
      "2000/2000 [==============================] - 17s 8ms/step - loss: 0.0039 - val_loss: 0.0039\n",
      "Epoch 5/50\n",
      "2000/2000 [==============================] - 17s 8ms/step - loss: 0.0039 - val_loss: 0.0039\n",
      "Epoch 6/50\n",
      "2000/2000 [==============================] - 17s 8ms/step - loss: 0.0039 - val_loss: 0.0039\n",
      "Epoch 7/50\n",
      "2000/2000 [==============================] - 17s 8ms/step - loss: 0.0039 - val_loss: 0.0039\n",
      "Epoch 8/50\n",
      "2000/2000 [==============================] - 17s 8ms/step - loss: 0.0039 - val_loss: 0.0039\n",
      "Epoch 9/50\n",
      "2000/2000 [==============================] - 17s 8ms/step - loss: 0.0039 - val_loss: 0.0039\n",
      "Epoch 10/50\n",
      "2000/2000 [==============================] - 17s 9ms/step - loss: 0.0039 - val_loss: 0.0039\n",
      "Epoch 11/50\n",
      "2000/2000 [==============================] - 17s 8ms/step - loss: 0.0039 - val_loss: 0.0039\n",
      "Epoch 12/50\n",
      "2000/2000 [==============================] - 18s 9ms/step - loss: 0.0039 - val_loss: 0.0039\n",
      "Epoch 13/50\n",
      "2000/2000 [==============================] - 18s 9ms/step - loss: 0.0039 - val_loss: 0.0039\n",
      "Epoch 14/50\n",
      "2000/2000 [==============================] - 18s 9ms/step - loss: 0.0039 - val_loss: 0.0039\n",
      "Epoch 15/50\n",
      "2000/2000 [==============================] - 17s 9ms/step - loss: 0.0039 - val_loss: 0.0039\n",
      "Epoch 16/50\n",
      "2000/2000 [==============================] - 18s 9ms/step - loss: 0.0039 - val_loss: 0.0039\n",
      "Epoch 17/50\n",
      "2000/2000 [==============================] - 18s 9ms/step - loss: 0.0039 - val_loss: 0.0039\n",
      "Epoch 18/50\n",
      "2000/2000 [==============================] - 18s 9ms/step - loss: 0.0039 - val_loss: 0.0039\n",
      "Epoch 19/50\n",
      "2000/2000 [==============================] - 18s 9ms/step - loss: 0.0039 - val_loss: 0.0039\n",
      "Epoch 20/50\n",
      "2000/2000 [==============================] - 18s 9ms/step - loss: 0.0039 - val_loss: 0.0039\n",
      "Epoch 21/50\n",
      "2000/2000 [==============================] - 18s 9ms/step - loss: 0.0039 - val_loss: 0.0039\n",
      "Epoch 22/50\n",
      "2000/2000 [==============================] - 18s 9ms/step - loss: 0.0039 - val_loss: 0.0039\n",
      "Epoch 23/50\n",
      "2000/2000 [==============================] - 18s 9ms/step - loss: 0.0039 - val_loss: 0.0039\n",
      "Epoch 24/50\n",
      "2000/2000 [==============================] - 17s 9ms/step - loss: 0.0039 - val_loss: 0.0039\n",
      "Epoch 25/50\n",
      "2000/2000 [==============================] - 18s 9ms/step - loss: 0.0039 - val_loss: 0.0039\n",
      "Epoch 26/50\n",
      "2000/2000 [==============================] - 18s 9ms/step - loss: 0.0039 - val_loss: 0.0039\n",
      "Epoch 27/50\n",
      "2000/2000 [==============================] - 18s 9ms/step - loss: 0.0039 - val_loss: 0.0039\n",
      "Epoch 28/50\n",
      "2000/2000 [==============================] - 18s 9ms/step - loss: 0.0039 - val_loss: 0.0039\n",
      "Epoch 29/50\n",
      "2000/2000 [==============================] - 18s 9ms/step - loss: 0.0039 - val_loss: 0.0039\n",
      "Epoch 30/50\n",
      "2000/2000 [==============================] - 18s 9ms/step - loss: 0.0039 - val_loss: 0.0039\n",
      "Epoch 31/50\n",
      "2000/2000 [==============================] - 17s 9ms/step - loss: 0.0039 - val_loss: 0.0039\n",
      "Epoch 32/50\n",
      "2000/2000 [==============================] - 18s 9ms/step - loss: 0.0039 - val_loss: 0.0039\n",
      "Epoch 33/50\n",
      "2000/2000 [==============================] - 18s 9ms/step - loss: 0.0039 - val_loss: 0.0039\n",
      "Epoch 34/50\n",
      "2000/2000 [==============================] - 18s 9ms/step - loss: 0.0039 - val_loss: 0.0039\n",
      "Epoch 35/50\n",
      "2000/2000 [==============================] - 18s 9ms/step - loss: 0.0039 - val_loss: 0.0039\n",
      "Epoch 36/50\n",
      "2000/2000 [==============================] - 18s 9ms/step - loss: 0.0039 - val_loss: 0.0039\n",
      "Epoch 37/50\n",
      "2000/2000 [==============================] - 17s 9ms/step - loss: 0.0039 - val_loss: 0.0039\n",
      "Epoch 38/50\n",
      "2000/2000 [==============================] - 18s 9ms/step - loss: 0.0039 - val_loss: 0.0039\n",
      "Epoch 39/50\n",
      "2000/2000 [==============================] - 18s 9ms/step - loss: 0.0039 - val_loss: 0.0039\n",
      "Epoch 40/50\n",
      "2000/2000 [==============================] - 18s 9ms/step - loss: 0.0039 - val_loss: 0.0039\n",
      "Epoch 41/50\n",
      "2000/2000 [==============================] - 18s 9ms/step - loss: 0.0039 - val_loss: 0.0039\n",
      "Epoch 42/50\n",
      "2000/2000 [==============================] - 18s 9ms/step - loss: 0.0039 - val_loss: 0.0039\n",
      "Epoch 43/50\n",
      "2000/2000 [==============================] - 17s 9ms/step - loss: 0.0039 - val_loss: 0.0039\n",
      "Epoch 44/50\n",
      "2000/2000 [==============================] - 17s 9ms/step - loss: 0.0039 - val_loss: 0.0039\n",
      "Epoch 45/50\n",
      "2000/2000 [==============================] - 17s 9ms/step - loss: 0.0039 - val_loss: 0.0039\n",
      "Epoch 46/50\n",
      "2000/2000 [==============================] - 18s 9ms/step - loss: 0.0039 - val_loss: 0.0039\n",
      "Epoch 47/50\n",
      "2000/2000 [==============================] - 17s 9ms/step - loss: 0.0039 - val_loss: 0.0039\n",
      "Epoch 48/50\n",
      "2000/2000 [==============================] - 17s 9ms/step - loss: 0.0039 - val_loss: 0.0039\n",
      "Epoch 49/50\n",
      "2000/2000 [==============================] - 17s 9ms/step - loss: 0.0039 - val_loss: 0.0039\n",
      "Epoch 50/50\n",
      "2000/2000 [==============================] - 17s 9ms/step - loss: 0.0039 - val_loss: 0.0039\n"
     ]
    },
    {
     "data": {
      "text/plain": [
       "<keras.callbacks.History at 0x7f8f94319b70>"
      ]
     },
     "execution_count": 126,
     "metadata": {},
     "output_type": "execute_result"
    }
   ],
   "source": [
    "autoencoder.fit(x_train, x_train,\n",
    "                nb_epoch=50,\n",
    "                batch_size=32,\n",
    "                shuffle=True,\n",
    "                validation_data=(x_test, x_test))"
   ]
  },
  {
   "cell_type": "code",
   "execution_count": null,
   "metadata": {},
   "outputs": [],
   "source": []
  },
  {
   "cell_type": "code",
   "execution_count": 94,
   "metadata": {},
   "outputs": [],
   "source": [
    "layer_name = 'dense_5'\n",
    "intermediate_layer_model = Model(input=encoder.input,\n",
    "                                 output=encoder.get_layer(layer_name).output)\n",
    "intermediate_output = intermediate_layer_model.predict(x_train)"
   ]
  },
  {
   "cell_type": "code",
   "execution_count": 95,
   "metadata": {},
   "outputs": [
    {
     "data": {
      "text/plain": [
       "array([[0.72749645, 0.09624985, 0.        , ..., 0.        , 0.46071273,\n",
       "        0.        ],\n",
       "       [0.2512621 , 0.        , 0.        , ..., 0.        , 0.15716156,\n",
       "        0.        ],\n",
       "       [1.4393748 , 0.        , 0.        , ..., 0.        , 0.9425086 ,\n",
       "        0.05396658],\n",
       "       ...,\n",
       "       [0.6460837 , 0.05934263, 0.        , ..., 0.        , 0.45454234,\n",
       "        0.        ],\n",
       "       [0.70705444, 0.        , 0.        , ..., 0.        , 0.53505003,\n",
       "        0.        ],\n",
       "       [0.3941369 , 0.        , 0.        , ..., 0.        , 0.32068485,\n",
       "        0.        ]], dtype=float32)"
      ]
     },
     "execution_count": 95,
     "metadata": {},
     "output_type": "execute_result"
    }
   ],
   "source": [
    "intermediate_output"
   ]
  },
  {
   "cell_type": "code",
   "execution_count": 96,
   "metadata": {},
   "outputs": [
    {
     "data": {
      "text/plain": [
       "numpy.ndarray"
      ]
     },
     "execution_count": 96,
     "metadata": {},
     "output_type": "execute_result"
    }
   ],
   "source": [
    "type(intermediate_output)"
   ]
  },
  {
   "cell_type": "code",
   "execution_count": 97,
   "metadata": {},
   "outputs": [
    {
     "data": {
      "text/plain": [
       "(2000, 100)"
      ]
     },
     "execution_count": 97,
     "metadata": {},
     "output_type": "execute_result"
    }
   ],
   "source": [
    "intermediate_output.shape"
   ]
  },
  {
   "cell_type": "code",
   "execution_count": null,
   "metadata": {},
   "outputs": [],
   "source": []
  }
 ],
 "metadata": {
  "kernelspec": {
   "display_name": "Python 3",
   "language": "python",
   "name": "python3"
  },
  "language_info": {
   "codemirror_mode": {
    "name": "ipython",
    "version": 3
   },
   "file_extension": ".py",
   "mimetype": "text/x-python",
   "name": "python",
   "nbconvert_exporter": "python",
   "pygments_lexer": "ipython3",
   "version": "3.7.3"
  }
 },
 "nbformat": 4,
 "nbformat_minor": 2
}
