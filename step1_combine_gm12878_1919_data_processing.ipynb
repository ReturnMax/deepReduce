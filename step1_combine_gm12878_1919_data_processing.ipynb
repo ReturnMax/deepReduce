{
 "cells": [
  {
   "cell_type": "code",
   "execution_count": 96,
   "metadata": {},
   "outputs": [],
   "source": [
    "import pandas as pd\n",
    "import numpy as np\n",
    "import os"
   ]
  },
  {
   "cell_type": "code",
   "execution_count": 97,
   "metadata": {},
   "outputs": [],
   "source": [
    "def generateGene(chr_num):\n",
    "    os.chdir('/home/externalFolder/demo_final_item/combine_gm12878/chr%d'%chr_num)\n",
    "    wd = os.getcwd()\n",
    "\n",
    "    csv_list=[]\n",
    "    \n",
    "    for root,dirs,files in os.walk(wd):\n",
    "        for file in files:\n",
    "            if os.path.splitext(file)[1]==\".csv\":\n",
    "                csv_list.append(file)\n",
    "                \n",
    "    data = []\n",
    "    \n",
    "    for csv in csv_list:\n",
    "        seqs=pd.read_csv(csv,header=None,encoding=\"utf8\")\n",
    "        rows=seqs.shape[0]#行数\n",
    "        #column=seqs.shape[1]#列数\n",
    "        \n",
    "        if rows == 200:\n",
    "            with open(\"index_save_file\",\"a+\") as gene_index: #记录基因（CSV）的读取顺序\n",
    "                gene_index.write(csv+\"\\n\")\n",
    "                \n",
    "            seqs_list=seqs.values.flatten()\n",
    "            gene_list=\"\\t\".join(seqs_list)\n",
    "            data.append(gene_list)\n",
    "        else:\n",
    "            with open(\"delete_not200lines_index\",\"a+\") as delete_gene_index: #记录删除的基因（CSV）的文件\n",
    "                delete_gene_index.write(csv+\"\\n\")\n",
    "        \n",
    "    save_file = \"/home/externalFolder/demo_final_item/all_data_1919/chr\" + str(chr_num) + \".txt\"\n",
    "    with open(save_file,\"a+\") as gene:\n",
    "        for line in data:\n",
    "            if len(line.split())==383800:\n",
    "                gene.write(line+\"\\n\")\n",
    "            else: \n",
    "                print(len(line.split()))\n",
    "                print(\"不是383800个特征\")"
   ]
  },
  {
   "cell_type": "code",
   "execution_count": 99,
   "metadata": {},
   "outputs": [],
   "source": [
    "generateGene(1)"
   ]
  },
  {
   "cell_type": "code",
   "execution_count": 100,
   "metadata": {},
   "outputs": [],
   "source": [
    "generateGene(3)\n",
    "generateGene(4)\n",
    "generateGene(5)\n",
    "generateGene(6)"
   ]
  },
  {
   "cell_type": "code",
   "execution_count": 101,
   "metadata": {},
   "outputs": [],
   "source": [
    "generateGene(7)\n",
    "generateGene(8)\n",
    "generateGene(9)\n",
    "generateGene(11)\n",
    "generateGene(12)"
   ]
  },
  {
   "cell_type": "code",
   "execution_count": 102,
   "metadata": {},
   "outputs": [],
   "source": [
    "generateGene(13)\n",
    "generateGene(14)\n",
    "generateGene(15)\n",
    "generateGene(16)\n",
    "generateGene(18)"
   ]
  },
  {
   "cell_type": "code",
   "execution_count": 103,
   "metadata": {},
   "outputs": [],
   "source": [
    "generateGene(19)\n",
    "generateGene(20)\n",
    "#generateGene(21)\n",
    "generateGene(22)"
   ]
  },
  {
   "cell_type": "code",
   "execution_count": 105,
   "metadata": {},
   "outputs": [],
   "source": [
    "generateGene(10)"
   ]
  },
  {
   "cell_type": "code",
   "execution_count": 104,
   "metadata": {},
   "outputs": [
    {
     "name": "stdout",
     "output_type": "stream",
     "text": [
      "data_load_finished!!!\n"
     ]
    }
   ],
   "source": [
    "print(\"data_load_finished!!!\")"
   ]
  },
  {
   "cell_type": "code",
   "execution_count": null,
   "metadata": {},
   "outputs": [],
   "source": []
  }
 ],
 "metadata": {
  "kernelspec": {
   "display_name": "Python 3",
   "language": "python",
   "name": "python3"
  },
  "language_info": {
   "codemirror_mode": {
    "name": "ipython",
    "version": 3
   },
   "file_extension": ".py",
   "mimetype": "text/x-python",
   "name": "python",
   "nbconvert_exporter": "python",
   "pygments_lexer": "ipython3",
   "version": "3.7.3"
  }
 },
 "nbformat": 4,
 "nbformat_minor": 2
}
