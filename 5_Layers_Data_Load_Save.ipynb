{
 "cells": [
  {
   "cell_type": "code",
   "execution_count": 1,
   "metadata": {},
   "outputs": [],
   "source": [
    "import pandas as pd"
   ]
  },
  {
   "cell_type": "code",
   "execution_count": 2,
   "metadata": {},
   "outputs": [],
   "source": [
    "import numpy as np"
   ]
  },
  {
   "cell_type": "code",
   "execution_count": 3,
   "metadata": {},
   "outputs": [],
   "source": [
    "import os"
   ]
  },
  {
   "cell_type": "code",
   "execution_count": 4,
   "metadata": {},
   "outputs": [],
   "source": [
    "os.chdir('/home/externalFolder/dataFile/')"
   ]
  },
  {
   "cell_type": "code",
   "execution_count": 5,
   "metadata": {},
   "outputs": [],
   "source": [
    "file_chdir=os.getcwd()"
   ]
  },
  {
   "cell_type": "code",
   "execution_count": 6,
   "metadata": {},
   "outputs": [
    {
     "name": "stdout",
     "output_type": "stream",
     "text": [
      "/home/externalFolder/dataFile\n"
     ]
    }
   ],
   "source": [
    "print(file_chdir)"
   ]
  },
  {
   "cell_type": "code",
   "execution_count": 7,
   "metadata": {},
   "outputs": [],
   "source": [
    "filecsv_list=[]"
   ]
  },
  {
   "cell_type": "code",
   "execution_count": 8,
   "metadata": {},
   "outputs": [],
   "source": [
    "for root,dirs,files in os.walk(file_chdir):\n",
    "    for file in files:\n",
    "        if os.path.splitext(file)[1]==\".csv\":\n",
    "            filecsv_list.append(file)"
   ]
  },
  {
   "cell_type": "code",
   "execution_count": 9,
   "metadata": {},
   "outputs": [
    {
     "name": "stdout",
     "output_type": "stream",
     "text": [
      "_chr1_RP1-224A6.3cut_frome_ref0711.csv\n"
     ]
    }
   ],
   "source": [
    "print(filecsv_list[1290])"
   ]
  },
  {
   "cell_type": "code",
   "execution_count": 10,
   "metadata": {},
   "outputs": [],
   "source": [
    "data=[]"
   ]
  },
  {
   "cell_type": "code",
   "execution_count": 11,
   "metadata": {},
   "outputs": [
    {
     "ename": "NameError",
     "evalue": "name 'gene_list' is not defined",
     "output_type": "error",
     "traceback": [
      "\u001b[0;31m---------------------------------------------------------------------------\u001b[0m",
      "\u001b[0;31mNameError\u001b[0m                                 Traceback (most recent call last)",
      "\u001b[0;32m<ipython-input-11-069d9607ff86>\u001b[0m in \u001b[0;36m<module>\u001b[0;34m\u001b[0m\n\u001b[1;32m      1\u001b[0m \u001b[0;32mfor\u001b[0m \u001b[0mcsv\u001b[0m \u001b[0;32min\u001b[0m \u001b[0mfilecsv_list\u001b[0m\u001b[0;34m:\u001b[0m\u001b[0;34m\u001b[0m\u001b[0;34m\u001b[0m\u001b[0m\n\u001b[1;32m      2\u001b[0m \u001b[0;34m\u001b[0m\u001b[0m\n\u001b[0;32m----> 3\u001b[0;31m     \u001b[0mdata\u001b[0m\u001b[0;34m.\u001b[0m\u001b[0mappend\u001b[0m\u001b[0;34m(\u001b[0m\u001b[0mgene_list\u001b[0m\u001b[0;34m)\u001b[0m\u001b[0;34m\u001b[0m\u001b[0;34m\u001b[0m\u001b[0m\n\u001b[0m",
      "\u001b[0;31mNameError\u001b[0m: name 'gene_list' is not defined"
     ]
    }
   ],
   "source": [
    "for csv in filecsv_list:\n",
    "    seqs=pd.read_csv(csv,header=None,encoding=\"utf8\")\n",
    "    seqs_list=seqs.values.flatten()\n",
    "    gene_list=\"\\t\".join(seqs_list)\n",
    "    data.append(gene_list)"
   ]
  },
  {
   "cell_type": "code",
   "execution_count": null,
   "metadata": {},
   "outputs": [],
   "source": [
    "df = open(\"/home/ALL.txt\",\"a+\")"
   ]
  },
  {
   "cell_type": "code",
   "execution_count": null,
   "metadata": {},
   "outputs": [],
   "source": [
    "for line in data:\n",
    "    df.write(line+\"\\n\")"
   ]
  },
  {
   "cell_type": "code",
   "execution_count": null,
   "metadata": {},
   "outputs": [],
   "source": [
    "df.close()"
   ]
  },
  {
   "cell_type": "code",
   "execution_count": null,
   "metadata": {},
   "outputs": [],
   "source": [
    "#data.to_csv(\"ALL.csv\",index=0,header=None)"
   ]
  },
  {
   "cell_type": "code",
   "execution_count": null,
   "metadata": {},
   "outputs": [],
   "source": [
    "#print(data)"
   ]
  },
  {
   "cell_type": "code",
   "execution_count": null,
   "metadata": {},
   "outputs": [],
   "source": []
  },
  {
   "cell_type": "code",
   "execution_count": 12,
   "metadata": {},
   "outputs": [],
   "source": [
    "import pandas as pd\n",
    "import numpy as np"
   ]
  },
  {
   "cell_type": "code",
   "execution_count": 13,
   "metadata": {},
   "outputs": [],
   "source": [
    "#以上为数据处理过程"
   ]
  },
  {
   "cell_type": "code",
   "execution_count": 14,
   "metadata": {},
   "outputs": [],
   "source": [
    "df = open(\"/home/externalFolder/ALL.txt\",\"r\")"
   ]
  },
  {
   "cell_type": "code",
   "execution_count": 15,
   "metadata": {},
   "outputs": [
    {
     "name": "stdout",
     "output_type": "stream",
     "text": [
      "<_io.TextIOWrapper name='/home/externalFolder/ALL.txt' mode='r' encoding='UTF-8'>\n"
     ]
    }
   ],
   "source": [
    "print(df)"
   ]
  },
  {
   "cell_type": "code",
   "execution_count": 16,
   "metadata": {},
   "outputs": [],
   "source": [
    "allData=[]"
   ]
  },
  {
   "cell_type": "code",
   "execution_count": null,
   "metadata": {},
   "outputs": [],
   "source": []
  },
  {
   "cell_type": "code",
   "execution_count": 17,
   "metadata": {},
   "outputs": [],
   "source": [
    "for line in df.readlines():\n",
    "    line=line.strip().split()\n",
    "    line=list(map(float,line))\n",
    "    allData.append(line)"
   ]
  },
  {
   "cell_type": "code",
   "execution_count": 18,
   "metadata": {},
   "outputs": [],
   "source": [
    "allData=np.array(allData)"
   ]
  },
  {
   "cell_type": "code",
   "execution_count": 19,
   "metadata": {},
   "outputs": [
    {
     "data": {
      "text/plain": [
       "(array([[2.6307e-03, 6.9186e-04, 4.5192e-03, ..., 1.9398e-02, 2.3205e-01,\n",
       "         1.1585e-02],\n",
       "        [1.8056e-04, 6.8048e-05, 1.9893e-04, ..., 3.6776e-03, 1.5886e-01,\n",
       "         5.7579e-03],\n",
       "        [1.5603e-03, 1.3074e-02, 2.8531e-03, ..., 9.3641e-03, 1.4716e-01,\n",
       "         1.7455e-03],\n",
       "        ...,\n",
       "        [2.3148e-04, 4.2565e-04, 4.7680e-04, ..., 4.6854e-04, 3.7291e-02,\n",
       "         2.7685e-02],\n",
       "        [1.2937e-02, 2.4322e-02, 1.6140e-02, ..., 2.1295e-02, 1.2517e-01,\n",
       "         1.4104e-02],\n",
       "        [6.9710e-03, 1.1012e-02, 6.4290e-03, ..., 8.7532e-03, 2.7323e-02,\n",
       "         2.1891e-04]]), numpy.ndarray, (2431, 183800))"
      ]
     },
     "execution_count": 19,
     "metadata": {},
     "output_type": "execute_result"
    }
   ],
   "source": [
    "allData,type(allData),allData.shape"
   ]
  },
  {
   "cell_type": "code",
   "execution_count": 20,
   "metadata": {},
   "outputs": [],
   "source": [
    "allData=allData.astype('float32')"
   ]
  },
  {
   "cell_type": "code",
   "execution_count": 21,
   "metadata": {},
   "outputs": [],
   "source": [
    "#allData,type(allData),allData.shape"
   ]
  },
  {
   "cell_type": "code",
   "execution_count": 22,
   "metadata": {},
   "outputs": [
    {
     "name": "stderr",
     "output_type": "stream",
     "text": [
      "Using TensorFlow backend.\n"
     ]
    }
   ],
   "source": [
    "from keras.layers import Input, Dense\n",
    "from keras.models import Model"
   ]
  },
  {
   "cell_type": "code",
   "execution_count": 23,
   "metadata": {},
   "outputs": [],
   "source": [
    "import warnings\n",
    "warnings.filterwarnings('ignore')"
   ]
  },
  {
   "cell_type": "code",
   "execution_count": 24,
   "metadata": {},
   "outputs": [],
   "source": [
    "#压缩特征至100维"
   ]
  },
  {
   "cell_type": "code",
   "execution_count": 25,
   "metadata": {},
   "outputs": [],
   "source": [
    "encoding_dim = 100"
   ]
  },
  {
   "cell_type": "code",
   "execution_count": 26,
   "metadata": {},
   "outputs": [],
   "source": [
    "#生成输入层张量"
   ]
  },
  {
   "cell_type": "code",
   "execution_count": 27,
   "metadata": {},
   "outputs": [],
   "source": [
    "input_img = Input(shape=(200*919,))"
   ]
  },
  {
   "cell_type": "code",
   "execution_count": 28,
   "metadata": {},
   "outputs": [],
   "source": [
    "#"
   ]
  },
  {
   "cell_type": "code",
   "execution_count": 29,
   "metadata": {},
   "outputs": [],
   "source": [
    "#encoded = Dense(18380,activation='relu')(input_img)"
   ]
  },
  {
   "cell_type": "code",
   "execution_count": 30,
   "metadata": {},
   "outputs": [
    {
     "name": "stdout",
     "output_type": "stream",
     "text": [
      "WARNING:tensorflow:From /root/anaconda3/envs/bgi/lib/python3.7/site-packages/tensorflow/python/framework/op_def_library.py:263: colocate_with (from tensorflow.python.framework.ops) is deprecated and will be removed in a future version.\n",
      "Instructions for updating:\n",
      "Colocations handled automatically by placer.\n"
     ]
    }
   ],
   "source": [
    "encoded = Dense(1800,activation='relu')(input_img)"
   ]
  },
  {
   "cell_type": "code",
   "execution_count": 31,
   "metadata": {},
   "outputs": [],
   "source": [
    "#"
   ]
  },
  {
   "cell_type": "code",
   "execution_count": 32,
   "metadata": {},
   "outputs": [],
   "source": [
    "encoded_out_1 = Dense(encoding_dim, activation='relu')(encoded)"
   ]
  },
  {
   "cell_type": "code",
   "execution_count": 33,
   "metadata": {},
   "outputs": [],
   "source": [
    "#"
   ]
  },
  {
   "cell_type": "code",
   "execution_count": 34,
   "metadata": {},
   "outputs": [],
   "source": [
    "decoded = Dense(1800,activation='relu')(encoded_out_1)"
   ]
  },
  {
   "cell_type": "code",
   "execution_count": 35,
   "metadata": {},
   "outputs": [],
   "source": [
    "#decoded = Dense(18380,activation='relu')(decoded)"
   ]
  },
  {
   "cell_type": "code",
   "execution_count": 36,
   "metadata": {},
   "outputs": [],
   "source": [
    "#"
   ]
  },
  {
   "cell_type": "code",
   "execution_count": 37,
   "metadata": {},
   "outputs": [],
   "source": [
    "decoded = Dense(200*919, activation='relu')(decoded)"
   ]
  },
  {
   "cell_type": "code",
   "execution_count": 38,
   "metadata": {},
   "outputs": [],
   "source": [
    "#构建自编码器"
   ]
  },
  {
   "cell_type": "code",
   "execution_count": 39,
   "metadata": {},
   "outputs": [],
   "source": [
    "autoencoder = Model(input=input_img, output=decoded)"
   ]
  },
  {
   "cell_type": "code",
   "execution_count": 40,
   "metadata": {},
   "outputs": [],
   "source": [
    "#构建编码器"
   ]
  },
  {
   "cell_type": "code",
   "execution_count": 41,
   "metadata": {},
   "outputs": [],
   "source": [
    "encoder = Model(input=input_img, output=encoded_out_1)"
   ]
  },
  {
   "cell_type": "code",
   "execution_count": 42,
   "metadata": {},
   "outputs": [],
   "source": [
    "#encoded_input = Input(shape=(encoding_dim,))\n",
    "#decoder_layer = autoencoder.layers[-1]\n",
    "#decoder = Model(input=encoded_input, output=decoder_layer(encoded_input))"
   ]
  },
  {
   "cell_type": "code",
   "execution_count": 43,
   "metadata": {},
   "outputs": [],
   "source": [
    "autoencoder.compile(optimizer='adam', loss='mse')"
   ]
  },
  {
   "cell_type": "code",
   "execution_count": 44,
   "metadata": {},
   "outputs": [
    {
     "name": "stdout",
     "output_type": "stream",
     "text": [
      "_________________________________________________________________\n",
      "Layer (type)                 Output Shape              Param #   \n",
      "=================================================================\n",
      "input_1 (InputLayer)         (None, 183800)            0         \n",
      "_________________________________________________________________\n",
      "dense_1 (Dense)              (None, 1800)              330841800 \n",
      "_________________________________________________________________\n",
      "dense_2 (Dense)              (None, 100)               180100    \n",
      "_________________________________________________________________\n",
      "dense_3 (Dense)              (None, 1800)              181800    \n",
      "_________________________________________________________________\n",
      "dense_4 (Dense)              (None, 183800)            331023800 \n",
      "=================================================================\n",
      "Total params: 662,227,500\n",
      "Trainable params: 662,227,500\n",
      "Non-trainable params: 0\n",
      "_________________________________________________________________\n"
     ]
    }
   ],
   "source": [
    "autoencoder.summary()"
   ]
  },
  {
   "cell_type": "code",
   "execution_count": 45,
   "metadata": {},
   "outputs": [
    {
     "name": "stdout",
     "output_type": "stream",
     "text": [
      "_________________________________________________________________\n",
      "Layer (type)                 Output Shape              Param #   \n",
      "=================================================================\n",
      "input_1 (InputLayer)         (None, 183800)            0         \n",
      "_________________________________________________________________\n",
      "dense_1 (Dense)              (None, 1800)              330841800 \n",
      "_________________________________________________________________\n",
      "dense_2 (Dense)              (None, 100)               180100    \n",
      "=================================================================\n",
      "Total params: 331,021,900\n",
      "Trainable params: 331,021,900\n",
      "Non-trainable params: 0\n",
      "_________________________________________________________________\n"
     ]
    }
   ],
   "source": [
    "encoder.summary()"
   ]
  },
  {
   "cell_type": "code",
   "execution_count": 46,
   "metadata": {},
   "outputs": [],
   "source": [
    "x_train = allData[:2000,:]"
   ]
  },
  {
   "cell_type": "code",
   "execution_count": 47,
   "metadata": {},
   "outputs": [],
   "source": [
    "x_test=allData[2000:,:]"
   ]
  },
  {
   "cell_type": "code",
   "execution_count": 48,
   "metadata": {},
   "outputs": [
    {
     "name": "stdout",
     "output_type": "stream",
     "text": [
      "[[2.6307e-03 6.9186e-04 4.5192e-03 ... 1.9398e-02 2.3205e-01 1.1585e-02]\n",
      " [1.8056e-04 6.8048e-05 1.9893e-04 ... 3.6776e-03 1.5886e-01 5.7579e-03]\n",
      " [1.5603e-03 1.3074e-02 2.8531e-03 ... 9.3641e-03 1.4716e-01 1.7455e-03]\n",
      " ...\n",
      " [2.9634e-04 1.7942e-03 7.0343e-04 ... 1.2877e-03 6.0729e-02 2.4778e-03]\n",
      " [7.2436e-03 8.0623e-03 1.3437e-02 ... 3.6484e-02 2.9080e-01 4.0249e-03]\n",
      " [7.3477e-04 2.0386e-03 1.1914e-03 ... 1.2099e-02 1.0486e-01 2.6258e-02]] <class 'numpy.ndarray'> (2000, 183800)\n"
     ]
    }
   ],
   "source": [
    "print(x_train,type(x_train),x_train.shape)"
   ]
  },
  {
   "cell_type": "code",
   "execution_count": 49,
   "metadata": {},
   "outputs": [
    {
     "name": "stdout",
     "output_type": "stream",
     "text": [
      "[[3.9200e-03 4.3770e-03 2.9266e-03 ... 7.9850e-03 6.1250e-02 3.2343e-02]\n",
      " [1.9587e-03 1.0647e-04 8.8398e-04 ... 8.2995e-04 9.3681e-02 3.2649e-03]\n",
      " [2.2034e-04 4.0516e-04 4.7584e-04 ... 2.2990e-03 9.5705e-02 1.6167e-02]\n",
      " ...\n",
      " [2.3148e-04 4.2565e-04 4.7680e-04 ... 4.6854e-04 3.7291e-02 2.7685e-02]\n",
      " [1.2937e-02 2.4322e-02 1.6140e-02 ... 2.1295e-02 1.2517e-01 1.4104e-02]\n",
      " [6.9710e-03 1.1012e-02 6.4290e-03 ... 8.7532e-03 2.7323e-02 2.1891e-04]] <class 'numpy.ndarray'> (431, 183800)\n"
     ]
    }
   ],
   "source": [
    "print(x_test,type(x_test),x_test.shape)"
   ]
  },
  {
   "cell_type": "code",
   "execution_count": 50,
   "metadata": {},
   "outputs": [
    {
     "name": "stdout",
     "output_type": "stream",
     "text": [
      "WARNING:tensorflow:From /root/anaconda3/envs/bgi/lib/python3.7/site-packages/tensorflow/python/ops/math_ops.py:3066: to_int32 (from tensorflow.python.ops.math_ops) is deprecated and will be removed in a future version.\n",
      "Instructions for updating:\n",
      "Use tf.cast instead.\n",
      "Train on 2000 samples, validate on 431 samples\n",
      "Epoch 1/2\n",
      "2000/2000 [==============================] - 220s 110ms/step - loss: 0.0038 - val_loss: 0.0037\n",
      "Epoch 2/2\n",
      "2000/2000 [==============================] - 112s 56ms/step - loss: 0.0034 - val_loss: 0.0032\n"
     ]
    },
    {
     "data": {
      "text/plain": [
       "<keras.callbacks.History at 0x7f4a4e5b2ef0>"
      ]
     },
     "execution_count": 50,
     "metadata": {},
     "output_type": "execute_result"
    }
   ],
   "source": [
    "autoencoder.fit(x_train, x_train,\n",
    "                nb_epoch=2,\n",
    "                batch_size=500,\n",
    "                shuffle=True,\n",
    "                validation_data=(x_test, x_test))"
   ]
  },
  {
   "cell_type": "code",
   "execution_count": null,
   "metadata": {},
   "outputs": [],
   "source": []
  },
  {
   "cell_type": "code",
   "execution_count": 51,
   "metadata": {},
   "outputs": [],
   "source": [
    "layer_name = 'dense_2'\n",
    "intermediate_layer_model = Model(input=encoder.input,\n",
    "                                 output=encoder.get_layer(layer_name).output)\n",
    "intermediate_output = intermediate_layer_model.predict(x_train)"
   ]
  },
  {
   "cell_type": "code",
   "execution_count": 52,
   "metadata": {},
   "outputs": [
    {
     "data": {
      "text/plain": [
       "array([[0.        , 1.1395645 , 0.        , ..., 0.53948873, 0.        ,\n",
       "        0.2592251 ],\n",
       "       [0.        , 0.48027712, 0.        , ..., 0.20577945, 0.        ,\n",
       "        0.08158951],\n",
       "       [0.        , 2.5944133 , 0.        , ..., 1.1288137 , 0.        ,\n",
       "        0.45419726],\n",
       "       ...,\n",
       "       [0.        , 1.4346564 , 0.        , ..., 0.55547535, 0.        ,\n",
       "        0.21361789],\n",
       "       [0.        , 1.3988589 , 0.        , ..., 0.6179479 , 0.        ,\n",
       "        0.13864951],\n",
       "       [0.        , 0.9959304 , 0.        , ..., 0.37957597, 0.        ,\n",
       "        0.32274866]], dtype=float32)"
      ]
     },
     "execution_count": 52,
     "metadata": {},
     "output_type": "execute_result"
    }
   ],
   "source": [
    "intermediate_output"
   ]
  },
  {
   "cell_type": "code",
   "execution_count": null,
   "metadata": {},
   "outputs": [],
   "source": []
  },
  {
   "cell_type": "code",
   "execution_count": null,
   "metadata": {},
   "outputs": [],
   "source": [
    "#测试保存"
   ]
  },
  {
   "cell_type": "code",
   "execution_count": 54,
   "metadata": {},
   "outputs": [],
   "source": [
    "np.save(\"/home/externalFolder/AE_JX_Result.npy\",intermediate_output)"
   ]
  },
  {
   "cell_type": "code",
   "execution_count": null,
   "metadata": {},
   "outputs": [],
   "source": [
    "#测试读取"
   ]
  },
  {
   "cell_type": "code",
   "execution_count": 55,
   "metadata": {},
   "outputs": [],
   "source": [
    "inputdata = np.load(\"/home/externalFolder/AE_JX_Result.npy\",encoding=\"latin1\")"
   ]
  },
  {
   "cell_type": "code",
   "execution_count": 56,
   "metadata": {},
   "outputs": [
    {
     "data": {
      "text/plain": [
       "array([[0.        , 1.1395645 , 0.        , ..., 0.53948873, 0.        ,\n",
       "        0.2592251 ],\n",
       "       [0.        , 0.48027712, 0.        , ..., 0.20577945, 0.        ,\n",
       "        0.08158951],\n",
       "       [0.        , 2.5944133 , 0.        , ..., 1.1288137 , 0.        ,\n",
       "        0.45419726],\n",
       "       ...,\n",
       "       [0.        , 1.4346564 , 0.        , ..., 0.55547535, 0.        ,\n",
       "        0.21361789],\n",
       "       [0.        , 1.3988589 , 0.        , ..., 0.6179479 , 0.        ,\n",
       "        0.13864951],\n",
       "       [0.        , 0.9959304 , 0.        , ..., 0.37957597, 0.        ,\n",
       "        0.32274866]], dtype=float32)"
      ]
     },
     "execution_count": 56,
     "metadata": {},
     "output_type": "execute_result"
    }
   ],
   "source": [
    "inputdata"
   ]
  },
  {
   "cell_type": "code",
   "execution_count": 57,
   "metadata": {},
   "outputs": [
    {
     "data": {
      "text/plain": [
       "(2000, 100)"
      ]
     },
     "execution_count": 57,
     "metadata": {},
     "output_type": "execute_result"
    }
   ],
   "source": [
    "inputdata.shape"
   ]
  },
  {
   "cell_type": "code",
   "execution_count": null,
   "metadata": {},
   "outputs": [],
   "source": [
    "#测试保存history"
   ]
  },
  {
   "cell_type": "code",
   "execution_count": 59,
   "metadata": {},
   "outputs": [
    {
     "data": {
      "text/plain": [
       "[0.003837917640339583, 0.003365915035828948]"
      ]
     },
     "execution_count": 59,
     "metadata": {},
     "output_type": "execute_result"
    }
   ],
   "source": [
    "autoencoder.history.history[\"loss\"]"
   ]
  },
  {
   "cell_type": "code",
   "execution_count": 61,
   "metadata": {},
   "outputs": [
    {
     "data": {
      "text/plain": [
       "numpy.float64"
      ]
     },
     "execution_count": 61,
     "metadata": {},
     "output_type": "execute_result"
    }
   ],
   "source": [
    "type(autoencoder.history.history[\"loss\"][0])"
   ]
  },
  {
   "cell_type": "code",
   "execution_count": 62,
   "metadata": {},
   "outputs": [],
   "source": [
    "with open(\"/home/externalFolder/loss.txt\",\"w\") as loss:\n",
    "        with open(\"/home/externalFolder/val_loss.txt\",\"w\") as val_loss:\n",
    "            loss.writelines(str(autoencoder.history.history[\"loss\"]))\n",
    "            val_loss.writelines(str(autoencoder.history.history[\"val_loss\"]))"
   ]
  },
  {
   "cell_type": "code",
   "execution_count": null,
   "metadata": {},
   "outputs": [],
   "source": []
  },
  {
   "cell_type": "code",
   "execution_count": null,
   "metadata": {},
   "outputs": [],
   "source": []
  },
  {
   "cell_type": "code",
   "execution_count": null,
   "metadata": {},
   "outputs": [],
   "source": []
  },
  {
   "cell_type": "code",
   "execution_count": 83,
   "metadata": {},
   "outputs": [
    {
     "data": {
      "text/plain": [
       "numpy.ndarray"
      ]
     },
     "execution_count": 83,
     "metadata": {},
     "output_type": "execute_result"
    }
   ],
   "source": [
    "type(intermediate_output)"
   ]
  },
  {
   "cell_type": "code",
   "execution_count": 84,
   "metadata": {},
   "outputs": [
    {
     "data": {
      "text/plain": [
       "(2000, 1800)"
      ]
     },
     "execution_count": 84,
     "metadata": {},
     "output_type": "execute_result"
    }
   ],
   "source": [
    "intermediate_output.shape"
   ]
  },
  {
   "cell_type": "code",
   "execution_count": null,
   "metadata": {},
   "outputs": [],
   "source": []
  },
  {
   "cell_type": "code",
   "execution_count": 85,
   "metadata": {},
   "outputs": [],
   "source": [
    "layer_name21 = 'dense_21'\n",
    "intermediate_layer_model = Model(input=encoder.input,\n",
    "                                 output=encoder.get_layer(layer_name21).output)\n",
    "intermediate_output = intermediate_layer_model.predict(x_train)"
   ]
  },
  {
   "cell_type": "code",
   "execution_count": 86,
   "metadata": {},
   "outputs": [
    {
     "data": {
      "text/plain": [
       "array([[1.6576577, 3.6630821, 1.5046481, ..., 3.0319664, 0.       ,\n",
       "        0.       ],\n",
       "       [1.4844111, 0.7385908, 1.8486081, ..., 2.2129176, 0.       ,\n",
       "        0.       ],\n",
       "       [3.040242 , 1.6046256, 3.1894145, ..., 4.4009676, 0.       ,\n",
       "        0.       ],\n",
       "       ...,\n",
       "       [6.224889 , 4.062181 , 6.2526784, ..., 4.687887 , 0.       ,\n",
       "        0.       ],\n",
       "       [4.433917 , 3.2582421, 1.3262172, ..., 4.4078197, 0.       ,\n",
       "        0.       ],\n",
       "       [1.3839215, 1.7526878, 1.9504652, ..., 3.3476288, 0.       ,\n",
       "        0.       ]], dtype=float32)"
      ]
     },
     "execution_count": 86,
     "metadata": {},
     "output_type": "execute_result"
    }
   ],
   "source": [
    "intermediate_output"
   ]
  },
  {
   "cell_type": "code",
   "execution_count": 87,
   "metadata": {},
   "outputs": [
    {
     "data": {
      "text/plain": [
       "numpy.ndarray"
      ]
     },
     "execution_count": 87,
     "metadata": {},
     "output_type": "execute_result"
    }
   ],
   "source": [
    "type(intermediate_output)"
   ]
  },
  {
   "cell_type": "code",
   "execution_count": 88,
   "metadata": {},
   "outputs": [
    {
     "data": {
      "text/plain": [
       "(2000, 100)"
      ]
     },
     "execution_count": 88,
     "metadata": {},
     "output_type": "execute_result"
    }
   ],
   "source": [
    "intermediate_output.shape"
   ]
  },
  {
   "cell_type": "code",
   "execution_count": null,
   "metadata": {},
   "outputs": [],
   "source": []
  }
 ],
 "metadata": {
  "kernelspec": {
   "display_name": "Python 3",
   "language": "python",
   "name": "python3"
  },
  "language_info": {
   "codemirror_mode": {
    "name": "ipython",
    "version": 3
   },
   "file_extension": ".py",
   "mimetype": "text/x-python",
   "name": "python",
   "nbconvert_exporter": "python",
   "pygments_lexer": "ipython3",
   "version": "3.7.3"
  }
 },
 "nbformat": 4,
 "nbformat_minor": 2
}
