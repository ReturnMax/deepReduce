{
 "cells": [
  {
   "cell_type": "code",
   "execution_count": 31,
   "metadata": {},
   "outputs": [],
   "source": [
    "import pandas as pd\n",
    "import numpy as np\n",
    "import os"
   ]
  },
  {
   "cell_type": "code",
   "execution_count": 32,
   "metadata": {},
   "outputs": [
    {
     "data": {
      "text/plain": [
       "'\\ndef multiChrCombine():\\n    os.chdir(\\'/home/externalFolder/demo_final_item/all_data_1919\\')\\n    wd = os.getcwd()\\n\\n    txt_list=[]\\n    #遍历所有的染色体文件\\n    for root,dirs,files in os.walk(wd):\\n        for file in files:\\n            if os.path.splitext(file)[1]==\".txt\":\\n                txt_list.append(file)\\n                \\n    #保存文件的顺序\\n    index_save_file = \"/home/externalFolder/demo_final_item/all_data_1919/combine_all_chr/all_chr_combine_index.txt\"\\n    with open(index_save_file,\"a+\") as chr_index:\\n        for chrx in txt_list:\\n            chr_index.write(chrx+\"\\n\")\\n   \\n    #将所有文件内的数据写入一个表格\\n    for txt in txt_list:\\n        chr_data=pd.read_csv(txt,header=None,encoding=\"utf8\",sep=\"\\t\")\\n        csv.to_csv(\"/home/externalFolder/demo_final_item/all_data_1919/combine_all_chr/all_chr_combine_data.txt\",\\n                   mode=\"a+\",index=False, header=False)\\n        \\n'"
      ]
     },
     "execution_count": 32,
     "metadata": {},
     "output_type": "execute_result"
    }
   ],
   "source": [
    "'''\n",
    "def multiChrCombine():\n",
    "    os.chdir('/home/externalFolder/demo_final_item/all_data_1919')\n",
    "    wd = os.getcwd()\n",
    "\n",
    "    txt_list=[]\n",
    "    #遍历所有的染色体文件\n",
    "    for root,dirs,files in os.walk(wd):\n",
    "        for file in files:\n",
    "            if os.path.splitext(file)[1]==\".txt\":\n",
    "                txt_list.append(file)\n",
    "                \n",
    "    #保存文件的顺序\n",
    "    index_save_file = \"/home/externalFolder/demo_final_item/all_data_1919/combine_all_chr/all_chr_combine_index.txt\"\n",
    "    with open(index_save_file,\"a+\") as chr_index:\n",
    "        for chrx in txt_list:\n",
    "            chr_index.write(chrx+\"\\n\")\n",
    "   \n",
    "    #将所有文件内的数据写入一个表格\n",
    "    for txt in txt_list:\n",
    "        chr_data=pd.read_csv(txt,header=None,encoding=\"utf8\",sep=\"\\t\")\n",
    "        csv.to_csv(\"/home/externalFolder/demo_final_item/all_data_1919/combine_all_chr/all_chr_combine_data.txt\",\n",
    "                   mode=\"a+\",index=False, header=False)\n",
    "        \n",
    "'''"
   ]
  },
  {
   "cell_type": "code",
   "execution_count": 33,
   "metadata": {},
   "outputs": [],
   "source": [
    "os.chdir('/home/externalFolder/demo_final_item/all_data_1919')\n",
    "wd = os.getcwd()"
   ]
  },
  {
   "cell_type": "code",
   "execution_count": 34,
   "metadata": {},
   "outputs": [],
   "source": [
    "txt_list=[]\n",
    "for root,dirs,files in os.walk(wd):\n",
    "    for file in files:\n",
    "        if os.path.splitext(file)[1]==\".txt\":\n",
    "            txt_list.append(file)"
   ]
  },
  {
   "cell_type": "code",
   "execution_count": 35,
   "metadata": {},
   "outputs": [],
   "source": [
    "index_save_file = \"/home/externalFolder/demo_final_item/all_data_1919/combine_all_chr/all_chr_combine_index.txt\"\n",
    "with open(index_save_file,\"a+\") as chr_index:\n",
    "    for chrx in txt_list:\n",
    "        chr_index.write(chrx+\"\\n\")"
   ]
  },
  {
   "cell_type": "code",
   "execution_count": null,
   "metadata": {},
   "outputs": [],
   "source": [
    "for txt in txt_list:\n",
    "    chr_data = pd.read_csv(txt,header=None,encoding=\"utf8\")\n",
    "    print(\"%s start...\"%txt)\n",
    "    chr_data.to_csv(\"/home/externalFolder/demo_final_item/all_data_1919/combine_all_chr/all_chr_combine_data.csv\",\n",
    "               mode = \"a+\",index = False, header = False)\n",
    "    print(\"%s has been loaded!!!\"%txt)\n",
    "    print(\"=\"*80)"
   ]
  },
  {
   "cell_type": "code",
   "execution_count": null,
   "metadata": {},
   "outputs": [],
   "source": [
    "print(\"data has been processed!!!\")"
   ]
  },
  {
   "cell_type": "code",
   "execution_count": null,
   "metadata": {},
   "outputs": [],
   "source": []
  }
 ],
 "metadata": {
  "kernelspec": {
   "display_name": "Python 3",
   "language": "python",
   "name": "python3"
  },
  "language_info": {
   "codemirror_mode": {
    "name": "ipython",
    "version": 3
   },
   "file_extension": ".py",
   "mimetype": "text/x-python",
   "name": "python",
   "nbconvert_exporter": "python",
   "pygments_lexer": "ipython3",
   "version": "3.7.3"
  }
 },
 "nbformat": 4,
 "nbformat_minor": 2
}
