{
 "cells": [
  {
   "cell_type": "code",
   "execution_count": 1,
   "metadata": {},
   "outputs": [],
   "source": [
    "import pandas as pd\n",
    "import numpy as np\n",
    "import os"
   ]
  },
  {
   "cell_type": "code",
   "execution_count": 5,
   "metadata": {},
   "outputs": [],
   "source": [
    "def labeledAEResult(chr_num):\n",
    "    chr_num=str(chr_num)\n",
    "    all_gene_exp=\"/home/externalFolder/demo_final_item/labelfinal.csv\"\n",
    "    \n",
    "    index=\"/home/externalFolder/demo_final_item/deepsea_only/chr\"+chr_num+\"/index_save_file\"\n",
    "    csv2=\"/home/externalFolder/demo_final_item/all_data_919/result/chr\"+chr_num+\".npy\"\n",
    "    saved_path=\"/home/externalFolder/demo_final_item/919_gene_exp_data/chr\"+chr_num+\".csv\"\n",
    "    \n",
    "    df1=pd.read_csv(all_gene_exp,header=0,index_col=0,encoding=\"utf8\")\n",
    "    df1=df1[[\"liver\",\"geneid\"]]\n",
    "    \n",
    "    df2_data=np.load(csv2)\n",
    "    df2_data=pd.DataFrame(df2_data)\n",
    "    \n",
    "    df2_index = pd.read_csv(index,header=None,names=[\"geneid\"],index_col=None,encoding=\"utf8\")\n",
    "    df2=df2_data.join(df2_index)\n",
    "    \n",
    "    labeled_data=pd.merge(df2,df1,how=\"inner\",on=\"geneid\")\n",
    "    labeled_data.to_csv(saved_path,sep=\",\",header=True,index=False)"
   ]
  },
  {
   "cell_type": "code",
   "execution_count": 14,
   "metadata": {},
   "outputs": [],
   "source": [
    "if __name__ == \"__main__\":\n",
    "    for i in range(1,23):\n",
    "        if i not in (2,16,17):\n",
    "            labeledAEResult(i)"
   ]
  },
  {
   "cell_type": "code",
   "execution_count": null,
   "metadata": {},
   "outputs": [],
   "source": []
  },
  {
   "cell_type": "code",
   "execution_count": null,
   "metadata": {},
   "outputs": [],
   "source": []
  }
 ],
 "metadata": {
  "kernelspec": {
   "display_name": "Python 3",
   "language": "python",
   "name": "python3"
  },
  "language_info": {
   "codemirror_mode": {
    "name": "ipython",
    "version": 3
   },
   "file_extension": ".py",
   "mimetype": "text/x-python",
   "name": "python",
   "nbconvert_exporter": "python",
   "pygments_lexer": "ipython3",
   "version": "3.7.3"
  }
 },
 "nbformat": 4,
 "nbformat_minor": 2
}
